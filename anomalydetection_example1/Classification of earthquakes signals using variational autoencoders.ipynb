{
 "cells": [
  {
   "cell_type": "markdown",
   "id": "3de14146",
   "metadata": {},
   "source": [
    "# Classification of earthquakes signals using variational autoencoder"
   ]
  },
  {
   "cell_type": "markdown",
   "id": "1276c666",
   "metadata": {},
   "source": [
    "Dataset: http://www.timeseriesclassification.com/description.php?Dataset=Earthquakes\n",
    "\n",
    "We adopt them to classify the negative and positive cases using the method of variational autoencoder, where the data is imbalanced. "
   ]
  },
  {
   "cell_type": "code",
   "execution_count": 1,
   "id": "ca6b1e6e",
   "metadata": {},
   "outputs": [],
   "source": [
    "from scipy.io import arff\n",
    "import pandas as pd\n",
    "import numpy as np\n",
    "from sklearn.preprocessing import LabelEncoder\n",
    "from sklearn.metrics import accuracy_score, f1_score, confusion_matrix, jaccard_score\n",
    "from sklearn.metrics import mean_absolute_error\n",
    "import matplotlib.pyplot as plt\n",
    "import tensorflow as tf\n",
    "tf.compat.v1.disable_eager_execution()\n",
    "from tensorflow.keras.models import Model, load_model\n",
    "from tensorflow.keras.layers import Lambda, Input, Dense\n",
    "from tensorflow.keras import optimizers\n",
    "\n",
    "import warnings\n",
    "warnings.filterwarnings('ignore')"
   ]
  },
  {
   "cell_type": "markdown",
   "id": "509ffe33",
   "metadata": {},
   "source": [
    "Load the data"
   ]
  },
  {
   "cell_type": "code",
   "execution_count": 2,
   "id": "fd23ef56",
   "metadata": {},
   "outputs": [],
   "source": [
    "train = arff.loadarff('Earthquakes_TRAIN.arff')\n",
    "test = arff.loadarff('Earthquakes_TEST.arff')"
   ]
  },
  {
   "cell_type": "code",
   "execution_count": 3,
   "id": "80cb112a",
   "metadata": {},
   "outputs": [],
   "source": [
    "train = pd.DataFrame(train[0])\n",
    "test = pd.DataFrame(test[0])"
   ]
  },
  {
   "cell_type": "code",
   "execution_count": 4,
   "id": "2a63f321",
   "metadata": {},
   "outputs": [
    {
     "data": {
      "text/plain": [
       "b'0'    264\n",
       "b'1'     58\n",
       "Name: target, dtype: int64"
      ]
     },
     "execution_count": 4,
     "metadata": {},
     "output_type": "execute_result"
    }
   ],
   "source": [
    "train['target'].value_counts()"
   ]
  },
  {
   "cell_type": "code",
   "execution_count": 5,
   "id": "33a3fb36",
   "metadata": {},
   "outputs": [],
   "source": [
    "positive_train = train[train.target==b'1']\n",
    "negative_train = train[train.target==b'0']\n",
    "positive_test = test[test.target==b'1']\n",
    "negative_test = test[test.target==b'0']"
   ]
  },
  {
   "cell_type": "code",
   "execution_count": 6,
   "id": "f7ee6f5e",
   "metadata": {},
   "outputs": [],
   "source": [
    "negative_train_X = negative_train.iloc[:,:-1].values\n",
    "negative_test_X = negative_test.iloc[:,:-1].values\n",
    "positive_train_X = positive_train.iloc[:,:-1].values\n",
    "positive_test_X = positive_test.iloc[:,:-1].values"
   ]
  },
  {
   "cell_type": "code",
   "execution_count": 7,
   "id": "8be4d715",
   "metadata": {},
   "outputs": [],
   "source": [
    "test_X = test.iloc[:,:-1].values"
   ]
  },
  {
   "cell_type": "markdown",
   "id": "238c9602",
   "metadata": {},
   "source": [
    "Label the data "
   ]
  },
  {
   "cell_type": "code",
   "execution_count": 8,
   "id": "720c15e2",
   "metadata": {},
   "outputs": [],
   "source": [
    "le = LabelEncoder()\n",
    "train_y =le.fit_transform(train.iloc[:,-1])\n",
    "test_y =le.transform(test.iloc[:,-1])"
   ]
  },
  {
   "cell_type": "code",
   "execution_count": 9,
   "id": "032c28d5",
   "metadata": {},
   "outputs": [
    {
     "name": "stdout",
     "output_type": "stream",
     "text": [
      "Labels:  {0: 264, 1: 58}\n"
     ]
    }
   ],
   "source": [
    "values, counts = np.unique(train_y, return_counts=True)\n",
    "print(\"Labels: \", dict(zip(values, counts)))"
   ]
  },
  {
   "cell_type": "markdown",
   "id": "561425bd",
   "metadata": {},
   "source": [
    "Label 0 as negative and 1 as positive"
   ]
  },
  {
   "cell_type": "code",
   "execution_count": 10,
   "id": "4b6e8e14",
   "metadata": {},
   "outputs": [],
   "source": [
    "#Model Parameters\n",
    "input_dim = positive_train_X.shape[1]\n",
    "input_shape = (input_dim,)\n",
    "hidden_dim = int(input_dim / 2)\n",
    "latent_dim = int(input_dim / 4)\n",
    "num_hidden = 2\n",
    "\n",
    "batch = 128\n",
    "epochs = 800\n",
    "\n",
    "learning_rate = 1e-4\n",
    "activation = 'relu'"
   ]
  },
  {
   "cell_type": "markdown",
   "id": "285d7f08",
   "metadata": {},
   "source": [
    "# Variational AutoEncoder"
   ]
  },
  {
   "cell_type": "code",
   "execution_count": 11,
   "id": "f2b4db8f",
   "metadata": {},
   "outputs": [],
   "source": [
    "class VariationalAutoEncoder(object):\n",
    "    '''\n",
    "       Anomaly detection using variational autoencoder\n",
    "    \n",
    "    '''\n",
    "    def __init__(self, *args):\n",
    "        self.input_dim = input_dim\n",
    "        self.hidden_dim = hidden_dim\n",
    "        self.latent_dim = latent_dim\n",
    "        self.num_hidden = num_hidden\n",
    "        self.learning_rate = learning_rate\n",
    "        self.activation = activation\n",
    "        self.model = self.model()\n",
    "        \n",
    "    def sample(self, args):\n",
    "        z_mean, z_log_var = args\n",
    "        batch = tf.shape(z_mean)[0]\n",
    "        dim = z_mean.get_shape()[1]\n",
    "        epsilon = tf.random.normal(shape=(batch, dim))\n",
    "        return z_mean + tf.exp(0.5 * z_log_var) * epsilon\n",
    "    \n",
    "    def vae_loss(self, x, x_decoded_mean):\n",
    "        reconstruction_loss = tf.reduce_sum(tf.square(x - x_decoded_mean))\n",
    "        kl_loss = - 0.5 * tf.reduce_sum(1 + self.z_log_var - tf.square(self.z_mean) \n",
    "                                        - tf.square(tf.exp(self.z_log_var)), axis=-1)\n",
    "        total_loss = tf.reduce_mean(reconstruction_loss + kl_loss)    \n",
    "        return total_loss\n",
    "    \n",
    "    def model(self):\n",
    "        # encoder model\n",
    "        inputs = Input(shape=input_shape, name='encoder_input')\n",
    "        x = Dense(self.input_dim, activation=self.activation)(inputs)\n",
    "        for i in range(self.num_hidden):\n",
    "            x = Dense(self.hidden_dim, activation=self.activation)(x)\n",
    "        self.z_mean = Dense(self.latent_dim, name='z_mean')(x)\n",
    "        self.z_log_var = Dense(self.latent_dim, name='z_log_var')(x)\n",
    "        z = Lambda(self.sample, output_shape=(self.latent_dim,), name='z')([self.z_mean, \n",
    "                                                                            self.z_log_var])\n",
    "        encoder = Model(inputs, z, name='encoder')\n",
    "        \n",
    "        # decoder model\n",
    "        latent_inputs = Input(shape=(self.latent_dim,), name='z_sampling')\n",
    "        x = Dense(self.hidden_dim, activation=self.activation)(latent_inputs)\n",
    "        if self.num_hidden > 1:\n",
    "            for i in range(self.num_hidden-1):\n",
    "                x = Dense(self.hidden_dim, activation=self.activation)(x)\n",
    "        outputs = Dense(self.input_dim, activation='sigmoid')(x)\n",
    "        decoder = Model(latent_inputs, outputs, name='decoder')\n",
    "\n",
    "        outputs = decoder(encoder(inputs))\n",
    "        vae_model = Model(inputs, outputs, name='vae_model')\n",
    "       \n",
    "        vae_model.compile(optimizer=optimizers.Adam(learning_rate=self.learning_rate), \n",
    "                          loss=self.vae_loss)\n",
    "        return vae_model"
   ]
  },
  {
   "cell_type": "code",
   "execution_count": 12,
   "id": "4588529e",
   "metadata": {},
   "outputs": [],
   "source": [
    "vae = VariationalAutoEncoder(input_dim, hidden_dim, latent_dim, num_hidden, learning_rate)"
   ]
  },
  {
   "cell_type": "code",
   "execution_count": 13,
   "id": "1e7f51bd",
   "metadata": {},
   "outputs": [
    {
     "name": "stdout",
     "output_type": "stream",
     "text": [
      "Model: \"vae_model\"\n",
      "_________________________________________________________________\n",
      "Layer (type)                 Output Shape              Param #   \n",
      "=================================================================\n",
      "encoder_input (InputLayer)   [(None, 512)]             0         \n",
      "_________________________________________________________________\n",
      "encoder (Functional)         (None, 128)               525568    \n",
      "_________________________________________________________________\n",
      "decoder (Functional)         (None, 512)               230400    \n",
      "=================================================================\n",
      "Total params: 755,968\n",
      "Trainable params: 755,968\n",
      "Non-trainable params: 0\n",
      "_________________________________________________________________\n"
     ]
    }
   ],
   "source": [
    "vae.model.summary()"
   ]
  },
  {
   "cell_type": "code",
   "execution_count": 14,
   "id": "73916df1",
   "metadata": {},
   "outputs": [],
   "source": [
    "history = vae.model.fit(positive_train_X, positive_train_X,\n",
    "                        shuffle=True,\n",
    "                        epochs=epochs,\n",
    "                        batch_size=batch,\n",
    "                        verbose=0)"
   ]
  },
  {
   "cell_type": "code",
   "execution_count": 15,
   "id": "adc367a1",
   "metadata": {},
   "outputs": [
    {
     "data": {
      "text/plain": [
       "<matplotlib.legend.Legend at 0x1786c10af70>"
      ]
     },
     "execution_count": 15,
     "metadata": {},
     "output_type": "execute_result"
    },
    {
     "data": {
      "image/png": "[encoded data removed]",
      "text/plain": [
       "<Figure size 720x432 with 1 Axes>"
      ]
     },
     "metadata": {
      "needs_background": "light"
     },
     "output_type": "display_data"
    }
   ],
   "source": [
    "plt.figure(figsize=(10,6))\n",
    "plt.plot(history.history['loss'])\n",
    "plt.ylabel('Loss')\n",
    "plt.xlabel('epoch')\n",
    "plt.legend(['train'], loc='upper right')"
   ]
  },
  {
   "cell_type": "code",
   "execution_count": 16,
   "id": "9a633bf9",
   "metadata": {},
   "outputs": [],
   "source": [
    "def reconstruct_err(model, data):\n",
    "    reconstructions = model.predict(data)\n",
    "    err = mean_absolute_error(data.T, reconstructions.T, multioutput='raw_values')\n",
    "    return err"
   ]
  },
  {
   "cell_type": "code",
   "execution_count": 17,
   "id": "bb6f0723",
   "metadata": {},
   "outputs": [],
   "source": [
    "positive_err = reconstruct_err(vae.model, positive_train_X)\n",
    "negative_err = reconstruct_err(vae.model, negative_train_X)"
   ]
  },
  {
   "cell_type": "code",
   "execution_count": 18,
   "id": "ae0e8f0b",
   "metadata": {},
   "outputs": [
    {
     "data": {
      "image/png": "[encoded data removed]",
      "text/plain": [
       "<Figure size 720x360 with 1 Axes>"
      ]
     },
     "metadata": {
      "needs_background": "light"
     },
     "output_type": "display_data"
    }
   ],
   "source": [
    "bins = int(np.sqrt(negative_err.shape[0]))\n",
    "plt.figure(figsize=(10,5))\n",
    "plt.hist([negative_err, positive_err], bins, label=['Negative', 'Positive'], density=True)\n",
    "plt.legend()\n",
    "plt.show()"
   ]
  },
  {
   "cell_type": "code",
   "execution_count": 19,
   "id": "17e4363e",
   "metadata": {},
   "outputs": [],
   "source": [
    "threshold = np.quantile(positive_err, 0.99) "
   ]
  },
  {
   "cell_type": "code",
   "execution_count": 20,
   "id": "fc3d1b87",
   "metadata": {},
   "outputs": [],
   "source": [
    "err = reconstruct_err(vae.model, test_X)\n",
    "prediction = (err > threshold)\n",
    "prediction = [int(x) for x in prediction]"
   ]
  },
  {
   "cell_type": "code",
   "execution_count": 21,
   "id": "94c8efb1",
   "metadata": {},
   "outputs": [],
   "source": [
    "def classification_metrics(truedata, pred):\n",
    "    print(\"Metrics\")\n",
    "    print(\"=======================\")\n",
    "    tn, fp, fn, tp = confusion_matrix(truedata, pred).ravel()\n",
    "    print(\"True positive: \", tp)\n",
    "    print(\"True negative: \", tn)\n",
    "    print(\"False positive: \", fp)\n",
    "    print(\"False negative: \", fn)\n",
    "    print()\n",
    "    acc = accuracy_score(truedata, pred)\n",
    "    f1 = f1_score(truedata, pred)\n",
    "    jaccard = jaccard_score(truedata, pred)\n",
    "    sensitivity = tp / (tp + fn)\n",
    "    specificity = tn / (fp + tn)\n",
    "    gmean = np.sqrt(sensitivity*specificity)\n",
    "    print(\"Accuracy: \", round(acc,3))\n",
    "    print(\"F1 score: \", round(f1,3))\n",
    "    print(\"Jaccard Score: \", round(jaccard,3))\n",
    "    print(\"G-Mean: \", round(gmean,3))\n",
    "    return [acc, f1, jaccard, gmean]"
   ]
  },
  {
   "cell_type": "markdown",
   "id": "b554a47b",
   "metadata": {},
   "source": [
    "# Summary"
   ]
  },
  {
   "cell_type": "code",
   "execution_count": 22,
   "id": "e10c0893",
   "metadata": {},
   "outputs": [
    {
     "name": "stdout",
     "output_type": "stream",
     "text": [
      "Metrics\n",
      "=======================\n",
      "True positive:  33\n",
      "True negative:  35\n",
      "False positive:  69\n",
      "False negative:  2\n",
      "\n",
      "Accuracy:  0.489\n",
      "F1 score:  0.482\n",
      "Jaccard Score:  0.317\n",
      "G-Mean:  0.563\n"
     ]
    }
   ],
   "source": [
    "column = ['Accuracy', 'F1 Score', 'Jaccard Score', 'G-Mean']\n",
    "metrics = pd.DataFrame(columns=column)\n",
    "\n",
    "temp = pd.DataFrame(classification_metrics(test_y, prediction)).T"
   ]
  },
  {
   "cell_type": "markdown",
   "id": "bce4e762",
   "metadata": {},
   "source": [
    "# References:"
   ]
  },
  {
   "cell_type": "markdown",
   "id": "d995ac54",
   "metadata": {},
   "source": [
    "<li>\n",
    "https://towardsdatascience.com/hands-on-anomaly-detection-with-variational-autoencoders-d4044672acd5\n",
    "<li>\n",
    "https://www.kdnuggets.com/2018/11/variational-autoencoders-explained.html\n",
    "<li>\n",
    "https://towardsdatascience.com/intuitively-understanding-variational-autoencoders-1bfe67eb5daf"
   ]
  }
 ],
 "metadata": {
  "kernelspec": {
   "display_name": "Python 3 (ipykernel)",
   "language": "python",
   "name": "python3"
  },
  "language_info": {
   "codemirror_mode": {
    "name": "ipython",
    "version": 3
   },
   "file_extension": ".py",
   "mimetype": "text/x-python",
   "name": "python",
   "nbconvert_exporter": "python",
   "pygments_lexer": "ipython3",
   "version": "3.8.12"
  }
 },
 "nbformat": 4,
 "nbformat_minor": 5
}
