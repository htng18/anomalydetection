{
 "cells": [
  {
   "cell_type": "markdown",
   "id": "43722a3e",
   "metadata": {},
   "source": [
    "# Binary classification using DL models"
   ]
  },
  {
   "cell_type": "markdown",
   "id": "c5e86d35",
   "metadata": {},
   "source": [
    "Dataset: https://www.kaggle.com/datasets/mishra5001/credit-card\n",
    "\n",
    "We perform binary classification using the different DL models. The DL models are listed below\n",
    "<li> Dense\n",
    "<li> LSTM\n",
    "<li> CNN\n",
    "<li> Bidirectional LSTM\n",
    "<li> CNN-LSTM\n",
    "    \n",
    "We compare the performance of different models."
   ]
  },
  {
   "cell_type": "code",
   "execution_count": 1,
   "id": "f42d02eb",
   "metadata": {},
   "outputs": [],
   "source": [
    "import tensorflow as tf\n",
    "physical_devices = tf.config.list_physical_devices('GPU')    \n",
    "for device in physical_devices:\n",
    "    tf.config.experimental.set_memory_growth(device, True)"
   ]
  },
  {
   "cell_type": "code",
   "execution_count": 2,
   "id": "a54f1a72",
   "metadata": {},
   "outputs": [],
   "source": [
    "import pandas as pd\n",
    "import numpy as np\n",
    "import matplotlib.pyplot as plt\n",
    "\n",
    "from sklearn.metrics import accuracy_score, f1_score, confusion_matrix, jaccard_score \n",
    "from sklearn.metrics import precision_score, recall_score, roc_curve, auc\n",
    "\n",
    "from tensorflow.keras.models import Sequential\n",
    "from tensorflow.keras.layers import Dense, Flatten, Dropout, LSTM, Conv1D, MaxPooling1D, Flatten, Bidirectional, TimeDistributed\n",
    "\n",
    "tf.keras.backend.set_floatx('float32')\n",
    "\n",
    "import warnings\n",
    "warnings.filterwarnings('ignore')"
   ]
  },
  {
   "cell_type": "code",
   "execution_count": 3,
   "id": "51f65e4a",
   "metadata": {},
   "outputs": [],
   "source": [
    "train_X = pd.read_csv('train_X.csv', index_col=0).astype('float32').values\n",
    "test_X = pd.read_csv('test_X.csv', index_col=0).astype('float32').values\n",
    "val_X = pd.read_csv('val_X.csv', index_col=0).astype('float32').values\n",
    "\n",
    "train_y = pd.read_csv('train_y.csv', index_col=0).astype('float32').values\n",
    "test_y = pd.read_csv('test_y.csv', index_col=0).astype('float32').values\n",
    "val_y = pd.read_csv('val_y.csv', index_col=0).astype('float32').values"
   ]
  },
  {
   "cell_type": "markdown",
   "id": "93f9c9f5",
   "metadata": {},
   "source": [
    "# Dense model"
   ]
  },
  {
   "cell_type": "code",
   "execution_count": 4,
   "id": "0755fab1",
   "metadata": {},
   "outputs": [],
   "source": [
    "epochs = 10\n",
    "batch_size = 16\n",
    "verbose = 1"
   ]
  },
  {
   "cell_type": "code",
   "execution_count": 5,
   "id": "4023aca5",
   "metadata": {},
   "outputs": [],
   "source": [
    "input_shape = (train_X.shape[-1],)"
   ]
  },
  {
   "cell_type": "code",
   "execution_count": 6,
   "id": "199ac9c4",
   "metadata": {},
   "outputs": [],
   "source": [
    "def dense_model(input_shape):\n",
    "    model = Sequential()\n",
    "    model.add(Dense(1024, activation='relu', input_shape=input_shape))\n",
    "    model.add(Dropout(0.1))\n",
    "    model.add(Dense(1024, activation='relu'))\n",
    "    model.add(Dropout(0.1))\n",
    "    model.add(Dense(1024, activation='relu'))\n",
    "    model.add(Dropout(0.1))\n",
    "    model.add(Dense(1, activation='sigmoid'))\n",
    "    model.compile(loss='binary_crossentropy', optimizer='adam', metrics=['accuracy'])\n",
    "    return model"
   ]
  },
  {
   "cell_type": "code",
   "execution_count": 7,
   "id": "2b197527",
   "metadata": {},
   "outputs": [],
   "source": [
    "model = dense_model(input_shape)"
   ]
  },
  {
   "cell_type": "code",
   "execution_count": 8,
   "id": "283ea639",
   "metadata": {},
   "outputs": [
    {
     "name": "stdout",
     "output_type": "stream",
     "text": [
      "Model: \"sequential\"\n",
      "_________________________________________________________________\n",
      "Layer (type)                 Output Shape              Param #   \n",
      "=================================================================\n",
      "dense (Dense)                (None, 1024)              146432    \n",
      "_________________________________________________________________\n",
      "dropout (Dropout)            (None, 1024)              0         \n",
      "_________________________________________________________________\n",
      "dense_1 (Dense)              (None, 1024)              1049600   \n",
      "_________________________________________________________________\n",
      "dropout_1 (Dropout)          (None, 1024)              0         \n",
      "_________________________________________________________________\n",
      "dense_2 (Dense)              (None, 1024)              1049600   \n",
      "_________________________________________________________________\n",
      "dropout_2 (Dropout)          (None, 1024)              0         \n",
      "_________________________________________________________________\n",
      "dense_3 (Dense)              (None, 1)                 1025      \n",
      "=================================================================\n",
      "Total params: 2,246,657\n",
      "Trainable params: 2,246,657\n",
      "Non-trainable params: 0\n",
      "_________________________________________________________________\n"
     ]
    }
   ],
   "source": [
    "model.summary()"
   ]
  },
  {
   "cell_type": "code",
   "execution_count": 9,
   "id": "2e295f47",
   "metadata": {},
   "outputs": [
    {
     "name": "stdout",
     "output_type": "stream",
     "text": [
      "Epoch 1/10\n",
      "25443/25443 [==============================] - 130s 5ms/step - loss: 0.4315 - accuracy: 0.8131 - val_loss: 0.3951 - val_accuracy: 0.8335\n",
      "Epoch 2/10\n",
      "25443/25443 [==============================] - 131s 5ms/step - loss: 0.3436 - accuracy: 0.8570 - val_loss: 0.3959 - val_accuracy: 0.8379\n",
      "Epoch 3/10\n",
      "25443/25443 [==============================] - 132s 5ms/step - loss: 0.3151 - accuracy: 0.8711 - val_loss: 0.3744 - val_accuracy: 0.8505\n",
      "Epoch 4/10\n",
      "25443/25443 [==============================] - 132s 5ms/step - loss: 0.2955 - accuracy: 0.8812 - val_loss: 0.3502 - val_accuracy: 0.8596\n",
      "Epoch 5/10\n",
      "25443/25443 [==============================] - 132s 5ms/step - loss: 0.2858 - accuracy: 0.8876 - val_loss: 0.4340 - val_accuracy: 0.8305\n",
      "Epoch 6/10\n",
      "25443/25443 [==============================] - 133s 5ms/step - loss: 0.2760 - accuracy: 0.8935 - val_loss: 0.3820 - val_accuracy: 0.8661\n",
      "Epoch 7/10\n",
      "25443/25443 [==============================] - 133s 5ms/step - loss: 0.2682 - accuracy: 0.8983 - val_loss: 0.4195 - val_accuracy: 0.8381\n",
      "Epoch 8/10\n",
      "25443/25443 [==============================] - 133s 5ms/step - loss: 0.2609 - accuracy: 0.9004 - val_loss: 0.4312 - val_accuracy: 0.8418\n",
      "Epoch 9/10\n",
      "25443/25443 [==============================] - 133s 5ms/step - loss: 0.2559 - accuracy: 0.9020 - val_loss: 0.3850 - val_accuracy: 0.8706\n",
      "Epoch 10/10\n",
      "25443/25443 [==============================] - 134s 5ms/step - loss: 0.2537 - accuracy: 0.9063 - val_loss: 0.4344 - val_accuracy: 0.8503\n"
     ]
    }
   ],
   "source": [
    "history = model.fit(train_X, train_y, epochs=epochs, batch_size=batch_size, validation_data=(val_X, val_y), verbose=verbose)"
   ]
  },
  {
   "cell_type": "code",
   "execution_count": 10,
   "id": "516b4770",
   "metadata": {},
   "outputs": [
    {
     "data": {
      "text/plain": [
       "<matplotlib.legend.Legend at 0x1e89aa125c8>"
      ]
     },
     "execution_count": 10,
     "metadata": {},
     "output_type": "execute_result"
    },
    {
     "data": {
      "image/png": "[encoded data removed]",
      "text/plain": [
       "<Figure size 720x432 with 1 Axes>"
      ]
     },
     "metadata": {
      "needs_background": "light"
     },
     "output_type": "display_data"
    }
   ],
   "source": [
    "plt.figure(figsize=(10,6))\n",
    "plt.plot(history.history['loss'])\n",
    "plt.plot(history.history['val_loss'])\n",
    "plt.ylabel('Loss')\n",
    "plt.xlabel('epoch')\n",
    "plt.legend(['train', 'validation'], loc='upper right')"
   ]
  },
  {
   "cell_type": "code",
   "execution_count": 11,
   "id": "e1f3a7b2",
   "metadata": {},
   "outputs": [],
   "source": [
    "def classification_metrics(truedata, pred):\n",
    "    print(\"Metrics\")\n",
    "    print(\"=======================\")\n",
    "    tn, fp, fn, tp = confusion_matrix(truedata, pred).ravel()\n",
    "    print(\"True positive: \", tp)\n",
    "    print(\"True negative: \", tn)\n",
    "    print(\"False positive: \", fp)\n",
    "    print(\"False negative: \", fn)\n",
    "    print()\n",
    "    acc = accuracy_score(truedata, pred)\n",
    "    f1 = f1_score(truedata, pred)\n",
    "    jaccard = jaccard_score(truedata, pred)\n",
    "    sensitivity = tp / (tp + fn)\n",
    "    specificity = tn / (fp + tn)\n",
    "    gmean = np.sqrt(sensitivity*specificity)\n",
    "    print(\"Accuracy: \", round(acc,3))\n",
    "    print(\"F1 score: \", round(f1,3))\n",
    "    print(\"Jaccard Score: \", round(jaccard,3))\n",
    "    print(\"G-Mean: \", round(gmean,3))\n",
    "    return [acc, f1, jaccard, gmean]"
   ]
  },
  {
   "cell_type": "code",
   "execution_count": 12,
   "id": "4c695f38",
   "metadata": {},
   "outputs": [],
   "source": [
    "pred_dict = {}"
   ]
  },
  {
   "cell_type": "code",
   "execution_count": 13,
   "id": "55064e14",
   "metadata": {},
   "outputs": [],
   "source": [
    "pred = model.predict(test_X)\n",
    "pred_dict['dense'] = np.array([round(pred[x][0]) for x in range(test_y.shape[0])])"
   ]
  },
  {
   "cell_type": "code",
   "execution_count": 14,
   "id": "60e1a199",
   "metadata": {},
   "outputs": [
    {
     "name": "stdout",
     "output_type": "stream",
     "text": [
      "Metrics\n",
      "=======================\n",
      "True positive:  1051\n",
      "True negative:  51386\n",
      "False positive:  5138\n",
      "False negative:  3928\n",
      "\n",
      "Accuracy:  0.853\n",
      "F1 score:  0.188\n",
      "Jaccard Score:  0.104\n",
      "G-Mean:  0.438\n"
     ]
    }
   ],
   "source": [
    "column = ['Accuracy', 'F1 Score', 'Jaccard Score', 'G-Mean']\n",
    "metrics = pd.DataFrame(columns=column)\n",
    "\n",
    "temp = pd.DataFrame(classification_metrics(test_y, pred_dict['dense'])).T\n",
    "temp.columns = column\n",
    "metrics = pd.concat([metrics, temp], axis=0)\n",
    "\n",
    "metrics_index = []\n",
    "metrics_index.append('Dense')"
   ]
  },
  {
   "cell_type": "code",
   "execution_count": 15,
   "id": "4d404426",
   "metadata": {},
   "outputs": [],
   "source": [
    "tf.keras.backend.clear_session()"
   ]
  },
  {
   "cell_type": "markdown",
   "id": "ab7ac453",
   "metadata": {},
   "source": [
    "# LSTM model"
   ]
  },
  {
   "cell_type": "code",
   "execution_count": 16,
   "id": "8a8dbdfe",
   "metadata": {},
   "outputs": [],
   "source": [
    "train_X = train_X.reshape(train_X.shape[0], 1, train_X.shape[-1])\n",
    "val_X = val_X.reshape(val_X.shape[0], 1, val_X.shape[-1])\n",
    "test_X = test_X.reshape(test_X.shape[0], 1, test_X.shape[-1])"
   ]
  },
  {
   "cell_type": "code",
   "execution_count": 17,
   "id": "6f4b3734",
   "metadata": {},
   "outputs": [],
   "source": [
    "input_shape = (1, train_X.shape[-1])"
   ]
  },
  {
   "cell_type": "code",
   "execution_count": 18,
   "id": "263c0e55",
   "metadata": {},
   "outputs": [],
   "source": [
    "def lstm_model(input_shape):\n",
    "    model = Sequential()\n",
    "    model.add(LSTM(512, activation='relu', input_shape=input_shape, return_sequences=True))\n",
    "    model.add(Dropout(0.2))\n",
    "    model.add(LSTM(512, activation='relu'))\n",
    "    model.add(Dropout(0.2))\n",
    "    model.add(Dense(128, activation='relu'))\n",
    "    model.add(Dropout(0.2))\n",
    "    model.add(Dense(1, activation='sigmoid'))\n",
    "    model.compile(loss='binary_crossentropy', optimizer='adam', metrics=['accuracy'])\n",
    "    return model"
   ]
  },
  {
   "cell_type": "code",
   "execution_count": 19,
   "id": "a1254efa",
   "metadata": {},
   "outputs": [
    {
     "name": "stdout",
     "output_type": "stream",
     "text": [
      "WARNING:tensorflow:Layer lstm will not use cuDNN kernel since it doesn't meet the cuDNN kernel criteria. It will use generic GPU kernel as fallback when running on GPU\n",
      "WARNING:tensorflow:Layer lstm_1 will not use cuDNN kernel since it doesn't meet the cuDNN kernel criteria. It will use generic GPU kernel as fallback when running on GPU\n"
     ]
    }
   ],
   "source": [
    "model = lstm_model(input_shape)"
   ]
  },
  {
   "cell_type": "code",
   "execution_count": 20,
   "id": "bdf6b32d",
   "metadata": {},
   "outputs": [
    {
     "name": "stdout",
     "output_type": "stream",
     "text": [
      "Model: \"sequential\"\n",
      "_________________________________________________________________\n",
      "Layer (type)                 Output Shape              Param #   \n",
      "=================================================================\n",
      "lstm (LSTM)                  (None, 1, 512)            1341440   \n",
      "_________________________________________________________________\n",
      "dropout (Dropout)            (None, 1, 512)            0         \n",
      "_________________________________________________________________\n",
      "lstm_1 (LSTM)                (None, 512)               2099200   \n",
      "_________________________________________________________________\n",
      "dropout_1 (Dropout)          (None, 512)               0         \n",
      "_________________________________________________________________\n",
      "dense (Dense)                (None, 128)               65664     \n",
      "_________________________________________________________________\n",
      "dropout_2 (Dropout)          (None, 128)               0         \n",
      "_________________________________________________________________\n",
      "dense_1 (Dense)              (None, 1)                 129       \n",
      "=================================================================\n",
      "Total params: 3,506,433\n",
      "Trainable params: 3,506,433\n",
      "Non-trainable params: 0\n",
      "_________________________________________________________________\n"
     ]
    }
   ],
   "source": [
    "model.summary()"
   ]
  },
  {
   "cell_type": "code",
   "execution_count": 21,
   "id": "56c624bd",
   "metadata": {},
   "outputs": [
    {
     "name": "stdout",
     "output_type": "stream",
     "text": [
      "Epoch 1/10\n",
      "25443/25443 [==============================] - 268s 10ms/step - loss: 0.4274 - accuracy: 0.8138 - val_loss: 0.4990 - val_accuracy: 0.8148\n",
      "Epoch 2/10\n",
      "25443/25443 [==============================] - 265s 10ms/step - loss: 0.3512 - accuracy: 0.8548 - val_loss: 0.3885 - val_accuracy: 0.8332\n",
      "Epoch 3/10\n",
      "25443/25443 [==============================] - 263s 10ms/step - loss: 0.3241 - accuracy: 0.8703 - val_loss: 0.4151 - val_accuracy: 0.8355\n",
      "Epoch 4/10\n",
      "25443/25443 [==============================] - 268s 11ms/step - loss: 0.3068 - accuracy: 0.8800 - val_loss: 0.4011 - val_accuracy: 0.8422\n",
      "Epoch 5/10\n",
      "25443/25443 [==============================] - 271s 11ms/step - loss: 0.2932 - accuracy: 0.8883 - val_loss: 0.3917 - val_accuracy: 0.8505\n",
      "Epoch 6/10\n",
      "25443/25443 [==============================] - 271s 11ms/step - loss: 0.2774 - accuracy: 0.8960 - val_loss: 0.4086 - val_accuracy: 0.8476\n",
      "Epoch 7/10\n",
      "25443/25443 [==============================] - 272s 11ms/step - loss: 0.2674 - accuracy: 0.9008 - val_loss: 0.3818 - val_accuracy: 0.8577\n",
      "Epoch 8/10\n",
      "25443/25443 [==============================] - 272s 11ms/step - loss: 0.2628 - accuracy: 0.9048 - val_loss: 0.3529 - val_accuracy: 0.8752\n",
      "Epoch 9/10\n",
      "25443/25443 [==============================] - 273s 11ms/step - loss: 0.2576 - accuracy: 0.9072 - val_loss: 0.3802 - val_accuracy: 0.8689\n",
      "Epoch 10/10\n",
      "25443/25443 [==============================] - 272s 11ms/step - loss: 0.2500 - accuracy: 0.9111 - val_loss: 0.4092 - val_accuracy: 0.8542\n"
     ]
    }
   ],
   "source": [
    "history = model.fit(train_X, train_y, epochs=epochs, batch_size=batch_size, validation_data=(val_X, val_y), verbose=verbose)"
   ]
  },
  {
   "cell_type": "code",
   "execution_count": 22,
   "id": "544ca97a",
   "metadata": {},
   "outputs": [
    {
     "data": {
      "text/plain": [
       "<matplotlib.legend.Legend at 0x1e8af31bd88>"
      ]
     },
     "execution_count": 22,
     "metadata": {},
     "output_type": "execute_result"
    },
    {
     "data": {
      "image/png": "[encoded data removed]",
      "text/plain": [
       "<Figure size 720x432 with 1 Axes>"
      ]
     },
     "metadata": {
      "needs_background": "light"
     },
     "output_type": "display_data"
    }
   ],
   "source": [
    "plt.figure(figsize=(10,6))\n",
    "plt.plot(history.history['loss'])\n",
    "plt.plot(history.history['val_loss'])\n",
    "plt.ylabel('Loss')\n",
    "plt.xlabel('epoch')\n",
    "plt.legend(['train', 'validation'], loc='upper right')"
   ]
  },
  {
   "cell_type": "code",
   "execution_count": 23,
   "id": "afb37b3b",
   "metadata": {},
   "outputs": [],
   "source": [
    "pred = model.predict(test_X)\n",
    "pred_dict['lstm'] = np.array([round(pred[x][0]) for x in range(test_y.shape[0])])"
   ]
  },
  {
   "cell_type": "code",
   "execution_count": 24,
   "id": "87f4f092",
   "metadata": {},
   "outputs": [
    {
     "name": "stdout",
     "output_type": "stream",
     "text": [
      "Metrics\n",
      "=======================\n",
      "True positive:  1028\n",
      "True negative:  51592\n",
      "False positive:  4932\n",
      "False negative:  3951\n",
      "\n",
      "Accuracy:  0.856\n",
      "F1 score:  0.188\n",
      "Jaccard Score:  0.104\n",
      "G-Mean:  0.434\n"
     ]
    }
   ],
   "source": [
    "temp = pd.DataFrame(classification_metrics(test_y, pred_dict['lstm'])).T\n",
    "temp.columns = column\n",
    "metrics = pd.concat([metrics, temp], axis=0)\n",
    "\n",
    "metrics_index.append('LSTM')"
   ]
  },
  {
   "cell_type": "code",
   "execution_count": 25,
   "id": "73e3f608",
   "metadata": {},
   "outputs": [],
   "source": [
    "tf.keras.backend.clear_session()"
   ]
  },
  {
   "cell_type": "markdown",
   "id": "ffe4eddd",
   "metadata": {},
   "source": [
    "# CNN model"
   ]
  },
  {
   "cell_type": "code",
   "execution_count": 26,
   "id": "175cbbe1",
   "metadata": {},
   "outputs": [],
   "source": [
    "def cnn_model(input_shape):\n",
    "    model = Sequential()\n",
    "    model.add(Conv1D(filters=512, kernel_size=1, activation='relu', input_shape=input_shape))\n",
    "    model.add(MaxPooling1D(pool_size=1))\n",
    "    model.add(Dropout(.2))\n",
    "    model.add(Conv1D(filters=512, kernel_size=1, activation='relu'))\n",
    "    model.add(MaxPooling1D(pool_size=1))\n",
    "    model.add(Dropout(.2))\n",
    "    model.add(Flatten())\n",
    "    model.add(Dense(128, activation='relu'))\n",
    "    model.add(Dropout(.2))\n",
    "    model.add(Dense(1, activation='sigmoid'))\n",
    "    model.compile(loss='binary_crossentropy', optimizer='adam', metrics=['accuracy'])\n",
    "    return model"
   ]
  },
  {
   "cell_type": "code",
   "execution_count": 27,
   "id": "6505c46f",
   "metadata": {},
   "outputs": [],
   "source": [
    "model = cnn_model(input_shape)"
   ]
  },
  {
   "cell_type": "code",
   "execution_count": 28,
   "id": "0061e549",
   "metadata": {},
   "outputs": [
    {
     "name": "stdout",
     "output_type": "stream",
     "text": [
      "Model: \"sequential\"\n",
      "_________________________________________________________________\n",
      "Layer (type)                 Output Shape              Param #   \n",
      "=================================================================\n",
      "conv1d (Conv1D)              (None, 1, 512)            73216     \n",
      "_________________________________________________________________\n",
      "max_pooling1d (MaxPooling1D) (None, 1, 512)            0         \n",
      "_________________________________________________________________\n",
      "dropout (Dropout)            (None, 1, 512)            0         \n",
      "_________________________________________________________________\n",
      "conv1d_1 (Conv1D)            (None, 1, 512)            262656    \n",
      "_________________________________________________________________\n",
      "max_pooling1d_1 (MaxPooling1 (None, 1, 512)            0         \n",
      "_________________________________________________________________\n",
      "dropout_1 (Dropout)          (None, 1, 512)            0         \n",
      "_________________________________________________________________\n",
      "flatten (Flatten)            (None, 512)               0         \n",
      "_________________________________________________________________\n",
      "dense (Dense)                (None, 128)               65664     \n",
      "_________________________________________________________________\n",
      "dropout_2 (Dropout)          (None, 128)               0         \n",
      "_________________________________________________________________\n",
      "dense_1 (Dense)              (None, 1)                 129       \n",
      "=================================================================\n",
      "Total params: 401,665\n",
      "Trainable params: 401,665\n",
      "Non-trainable params: 0\n",
      "_________________________________________________________________\n"
     ]
    }
   ],
   "source": [
    "model.summary()"
   ]
  },
  {
   "cell_type": "code",
   "execution_count": 29,
   "id": "da6029bb",
   "metadata": {},
   "outputs": [
    {
     "name": "stdout",
     "output_type": "stream",
     "text": [
      "Epoch 1/10\n",
      "25443/25443 [==============================] - 133s 5ms/step - loss: 0.4374 - accuracy: 0.8093 - val_loss: 0.4247 - val_accuracy: 0.8147\n",
      "Epoch 2/10\n",
      "25443/25443 [==============================] - 131s 5ms/step - loss: 0.3602 - accuracy: 0.8480 - val_loss: 0.3519 - val_accuracy: 0.8603\n",
      "Epoch 3/10\n",
      "25443/25443 [==============================] - 131s 5ms/step - loss: 0.3368 - accuracy: 0.8601 - val_loss: 0.3872 - val_accuracy: 0.8398\n",
      "Epoch 4/10\n",
      "25443/25443 [==============================] - 135s 5ms/step - loss: 0.3215 - accuracy: 0.8688 - val_loss: 0.4311 - val_accuracy: 0.8247\n",
      "Epoch 5/10\n",
      "25443/25443 [==============================] - 133s 5ms/step - loss: 0.3082 - accuracy: 0.8746 - val_loss: 0.3853 - val_accuracy: 0.8405\n",
      "Epoch 6/10\n",
      "25443/25443 [==============================] - 134s 5ms/step - loss: 0.3052 - accuracy: 0.8776 - val_loss: 0.4009 - val_accuracy: 0.8373\n",
      "Epoch 7/10\n",
      "25443/25443 [==============================] - 135s 5ms/step - loss: 0.2984 - accuracy: 0.8816 - val_loss: 0.3758 - val_accuracy: 0.8618\n",
      "Epoch 8/10\n",
      "25443/25443 [==============================] - 134s 5ms/step - loss: 0.2906 - accuracy: 0.8853 - val_loss: 0.3986 - val_accuracy: 0.8518\n",
      "Epoch 9/10\n",
      "25443/25443 [==============================] - 136s 5ms/step - loss: 0.2921 - accuracy: 0.8860 - val_loss: 0.4005 - val_accuracy: 0.8459\n",
      "Epoch 10/10\n",
      "25443/25443 [==============================] - 136s 5ms/step - loss: 0.2891 - accuracy: 0.8867 - val_loss: 0.3822 - val_accuracy: 0.8596\n"
     ]
    }
   ],
   "source": [
    "history = model.fit(train_X, train_y, epochs=epochs, batch_size=batch_size, validation_data=(val_X, val_y), verbose=verbose)"
   ]
  },
  {
   "cell_type": "code",
   "execution_count": 30,
   "id": "809b6ada",
   "metadata": {},
   "outputs": [
    {
     "data": {
      "text/plain": [
       "<matplotlib.legend.Legend at 0x1e8bd44c688>"
      ]
     },
     "execution_count": 30,
     "metadata": {},
     "output_type": "execute_result"
    },
    {
     "data": {
      "image/png": "[encoded data removed]",
      "text/plain": [
       "<Figure size 720x432 with 1 Axes>"
      ]
     },
     "metadata": {
      "needs_background": "light"
     },
     "output_type": "display_data"
    }
   ],
   "source": [
    "plt.figure(figsize=(10,6))\n",
    "plt.plot(history.history['loss'])\n",
    "plt.plot(history.history['val_loss'])\n",
    "plt.ylabel('Loss')\n",
    "plt.xlabel('epoch')\n",
    "plt.legend(['train', 'validation'], loc='upper right')"
   ]
  },
  {
   "cell_type": "code",
   "execution_count": 31,
   "id": "8a457ea5",
   "metadata": {},
   "outputs": [],
   "source": [
    "pred = model.predict(test_X)\n",
    "pred_dict['cnn'] = np.array([round(pred[x][0]) for x in range(test_y.shape[0])])"
   ]
  },
  {
   "cell_type": "code",
   "execution_count": 32,
   "id": "7eb377af",
   "metadata": {},
   "outputs": [
    {
     "name": "stdout",
     "output_type": "stream",
     "text": [
      "Metrics\n",
      "=======================\n",
      "True positive:  1011\n",
      "True negative:  51865\n",
      "False positive:  4659\n",
      "False negative:  3968\n",
      "\n",
      "Accuracy:  0.86\n",
      "F1 score:  0.19\n",
      "Jaccard Score:  0.105\n",
      "G-Mean:  0.432\n"
     ]
    }
   ],
   "source": [
    "temp = pd.DataFrame(classification_metrics(test_y, pred_dict['cnn'])).T\n",
    "temp.columns = column\n",
    "metrics = pd.concat([metrics, temp], axis=0)\n",
    "\n",
    "metrics_index.append('CNN')"
   ]
  },
  {
   "cell_type": "code",
   "execution_count": 33,
   "id": "72d196df",
   "metadata": {},
   "outputs": [],
   "source": [
    "tf.keras.backend.clear_session()"
   ]
  },
  {
   "cell_type": "markdown",
   "id": "ee7750c7",
   "metadata": {},
   "source": [
    "# Bidirectional LSTM"
   ]
  },
  {
   "cell_type": "code",
   "execution_count": 34,
   "id": "45b2538c",
   "metadata": {},
   "outputs": [],
   "source": [
    "def bilstm_model(input_shape):\n",
    "    model = Sequential()\n",
    "    model.add(Bidirectional(LSTM(256, activation='relu', return_sequences=True), input_shape=input_shape))\n",
    "    model.add(Dropout(.2))\n",
    "    model.add(Bidirectional(LSTM(256, activation='relu')))\n",
    "    model.add(Dropout(.2))\n",
    "    model.add(Dense(128, activation='relu'))\n",
    "    model.add(Dropout(.2))\n",
    "    model.add(Dense(1, activation='sigmoid'))\n",
    "    model.compile(loss='binary_crossentropy', optimizer='adam', metrics=['accuracy'])\n",
    "    return model"
   ]
  },
  {
   "cell_type": "code",
   "execution_count": 35,
   "id": "72a43dd3",
   "metadata": {},
   "outputs": [
    {
     "name": "stdout",
     "output_type": "stream",
     "text": [
      "WARNING:tensorflow:Layer lstm will not use cuDNN kernel since it doesn't meet the cuDNN kernel criteria. It will use generic GPU kernel as fallback when running on GPU\n",
      "WARNING:tensorflow:Layer lstm will not use cuDNN kernel since it doesn't meet the cuDNN kernel criteria. It will use generic GPU kernel as fallback when running on GPU\n",
      "WARNING:tensorflow:Layer lstm will not use cuDNN kernel since it doesn't meet the cuDNN kernel criteria. It will use generic GPU kernel as fallback when running on GPU\n",
      "WARNING:tensorflow:Layer lstm_1 will not use cuDNN kernel since it doesn't meet the cuDNN kernel criteria. It will use generic GPU kernel as fallback when running on GPU\n",
      "WARNING:tensorflow:Layer lstm_1 will not use cuDNN kernel since it doesn't meet the cuDNN kernel criteria. It will use generic GPU kernel as fallback when running on GPU\n",
      "WARNING:tensorflow:Layer lstm_1 will not use cuDNN kernel since it doesn't meet the cuDNN kernel criteria. It will use generic GPU kernel as fallback when running on GPU\n"
     ]
    }
   ],
   "source": [
    "model = bilstm_model(input_shape)"
   ]
  },
  {
   "cell_type": "code",
   "execution_count": 36,
   "id": "edfd9d53",
   "metadata": {},
   "outputs": [
    {
     "name": "stdout",
     "output_type": "stream",
     "text": [
      "Model: \"sequential\"\n",
      "_________________________________________________________________\n",
      "Layer (type)                 Output Shape              Param #   \n",
      "=================================================================\n",
      "bidirectional (Bidirectional (None, 1, 512)            817152    \n",
      "_________________________________________________________________\n",
      "dropout (Dropout)            (None, 1, 512)            0         \n",
      "_________________________________________________________________\n",
      "bidirectional_1 (Bidirection (None, 512)               1574912   \n",
      "_________________________________________________________________\n",
      "dropout_1 (Dropout)          (None, 512)               0         \n",
      "_________________________________________________________________\n",
      "dense (Dense)                (None, 128)               65664     \n",
      "_________________________________________________________________\n",
      "dropout_2 (Dropout)          (None, 128)               0         \n",
      "_________________________________________________________________\n",
      "dense_1 (Dense)              (None, 1)                 129       \n",
      "=================================================================\n",
      "Total params: 2,457,857\n",
      "Trainable params: 2,457,857\n",
      "Non-trainable params: 0\n",
      "_________________________________________________________________\n"
     ]
    }
   ],
   "source": [
    "model.summary()"
   ]
  },
  {
   "cell_type": "code",
   "execution_count": 37,
   "id": "d32eecad",
   "metadata": {},
   "outputs": [
    {
     "name": "stdout",
     "output_type": "stream",
     "text": [
      "Epoch 1/10\n",
      "25443/25443 [==============================] - 405s 16ms/step - loss: 0.4286 - accuracy: 0.8144 - val_loss: 0.4775 - val_accuracy: 0.7933\n",
      "Epoch 2/10\n",
      "25443/25443 [==============================] - 398s 16ms/step - loss: 0.3528 - accuracy: 0.8548 - val_loss: 0.4295 - val_accuracy: 0.8254\n",
      "Epoch 3/10\n",
      "25443/25443 [==============================] - 376s 15ms/step - loss: 0.3216 - accuracy: 0.8708 - val_loss: 0.3903 - val_accuracy: 0.8440\n",
      "Epoch 4/10\n",
      "25443/25443 [==============================] - 403s 16ms/step - loss: 0.3027 - accuracy: 0.8812 - val_loss: 0.3987 - val_accuracy: 0.8438\n",
      "Epoch 5/10\n",
      "25443/25443 [==============================] - 406s 16ms/step - loss: 0.2952 - accuracy: 0.8869 - val_loss: 0.3943 - val_accuracy: 0.8556\n",
      "Epoch 6/10\n",
      "25443/25443 [==============================] - 404s 16ms/step - loss: 0.2760 - accuracy: 0.8954 - val_loss: 0.4044 - val_accuracy: 0.8508\n",
      "Epoch 7/10\n",
      "25443/25443 [==============================] - 400s 16ms/step - loss: 0.2658 - accuracy: 0.9001 - val_loss: 0.3975 - val_accuracy: 0.8550\n",
      "Epoch 8/10\n",
      "25443/25443 [==============================] - 403s 16ms/step - loss: 0.2624 - accuracy: 0.9035 - val_loss: 0.3889 - val_accuracy: 0.8619\n",
      "Epoch 9/10\n",
      "25443/25443 [==============================] - 408s 16ms/step - loss: 0.2553 - accuracy: 0.9076 - val_loss: 0.4471 - val_accuracy: 0.8561\n",
      "Epoch 10/10\n",
      "25443/25443 [==============================] - 400s 16ms/step - loss: 0.2534 - accuracy: 0.9096 - val_loss: 0.4221 - val_accuracy: 0.8578\n"
     ]
    }
   ],
   "source": [
    "history = model.fit(train_X, train_y, epochs=epochs, batch_size=batch_size, validation_data=(val_X, val_y), verbose=verbose)"
   ]
  },
  {
   "cell_type": "code",
   "execution_count": 38,
   "id": "5fb4ca19",
   "metadata": {},
   "outputs": [
    {
     "data": {
      "text/plain": [
       "<matplotlib.legend.Legend at 0x1e8ad5e8108>"
      ]
     },
     "execution_count": 38,
     "metadata": {},
     "output_type": "execute_result"
    },
    {
     "data": {
      "image/png": "[encoded data removed]",
      "text/plain": [
       "<Figure size 720x432 with 1 Axes>"
      ]
     },
     "metadata": {
      "needs_background": "light"
     },
     "output_type": "display_data"
    }
   ],
   "source": [
    "plt.figure(figsize=(10,6))\n",
    "plt.plot(history.history['loss'])\n",
    "plt.plot(history.history['val_loss'])\n",
    "plt.ylabel('Loss')\n",
    "plt.xlabel('epoch')\n",
    "plt.legend(['train', 'validation'], loc='upper right')"
   ]
  },
  {
   "cell_type": "code",
   "execution_count": 39,
   "id": "0bd6dee7",
   "metadata": {},
   "outputs": [],
   "source": [
    "pred = model.predict(test_X)\n",
    "pred_dict['bilstm'] = np.array([round(pred[x][0]) for x in range(test_y.shape[0])])"
   ]
  },
  {
   "cell_type": "code",
   "execution_count": 40,
   "id": "0c13e7f4",
   "metadata": {},
   "outputs": [
    {
     "name": "stdout",
     "output_type": "stream",
     "text": [
      "Metrics\n",
      "=======================\n",
      "True positive:  1060\n",
      "True negative:  51760\n",
      "False positive:  4764\n",
      "False negative:  3919\n",
      "\n",
      "Accuracy:  0.859\n",
      "F1 score:  0.196\n",
      "Jaccard Score:  0.109\n",
      "G-Mean:  0.442\n"
     ]
    }
   ],
   "source": [
    "temp = pd.DataFrame(classification_metrics(test_y, pred_dict['bilstm'])).T\n",
    "temp.columns = column\n",
    "metrics = pd.concat([metrics, temp], axis=0)\n",
    "\n",
    "metrics_index.append('BiLSTM')"
   ]
  },
  {
   "cell_type": "code",
   "execution_count": 41,
   "id": "0d16eda1",
   "metadata": {},
   "outputs": [],
   "source": [
    "tf.keras.backend.clear_session()"
   ]
  },
  {
   "cell_type": "markdown",
   "id": "e90ad13f",
   "metadata": {},
   "source": [
    "# CNN-LSTM model"
   ]
  },
  {
   "cell_type": "code",
   "execution_count": 42,
   "id": "a336e857",
   "metadata": {},
   "outputs": [],
   "source": [
    "train_X = train_X.reshape(train_X.shape[0], 1, 1, train_X.shape[-1])\n",
    "test_X = test_X.reshape(test_X.shape[0], 1, 1, test_X.shape[-1])\n",
    "val_X = val_X.reshape(val_X.shape[0], 1, 1, val_X.shape[-1])"
   ]
  },
  {
   "cell_type": "code",
   "execution_count": 43,
   "id": "f3254b29",
   "metadata": {},
   "outputs": [],
   "source": [
    "input_shape = (None, 1, train_X.shape[-1])"
   ]
  },
  {
   "cell_type": "code",
   "execution_count": 44,
   "id": "082a40e2",
   "metadata": {},
   "outputs": [],
   "source": [
    "def cnnlstm_model(input_shape):\n",
    "    model = Sequential()\n",
    "    model.add(TimeDistributed(Conv1D(filters=512, kernel_size=1, activation='relu'), input_shape=input_shape))\n",
    "    model.add(Dropout(.2))\n",
    "    model.add(TimeDistributed(MaxPooling1D(pool_size=1)))\n",
    "    model.add(TimeDistributed(Conv1D(filters=512, kernel_size=1, activation='relu')))\n",
    "    model.add(Dropout(.2))\n",
    "    model.add(TimeDistributed(MaxPooling1D(pool_size=1)))\n",
    "    model.add(TimeDistributed(Flatten()))\n",
    "    model.add(LSTM(512, activation='relu', return_sequences=True))\n",
    "    model.add(Dropout(.2))\n",
    "    model.add(LSTM(512, activation='relu'))\n",
    "    model.add(Dropout(.2))\n",
    "    model.add(Dense(128, activation='relu'))\n",
    "    model.add(Dropout(.2))\n",
    "    model.add(Dense(1, activation='sigmoid'))\n",
    "    model.compile(loss='binary_crossentropy', optimizer='adam', metrics=['accuracy'])\n",
    "    return model"
   ]
  },
  {
   "cell_type": "code",
   "execution_count": 45,
   "id": "384a6bf9",
   "metadata": {},
   "outputs": [
    {
     "name": "stdout",
     "output_type": "stream",
     "text": [
      "WARNING:tensorflow:Layer lstm will not use cuDNN kernel since it doesn't meet the cuDNN kernel criteria. It will use generic GPU kernel as fallback when running on GPU\n",
      "WARNING:tensorflow:Layer lstm_1 will not use cuDNN kernel since it doesn't meet the cuDNN kernel criteria. It will use generic GPU kernel as fallback when running on GPU\n"
     ]
    }
   ],
   "source": [
    "model = cnnlstm_model(input_shape)"
   ]
  },
  {
   "cell_type": "code",
   "execution_count": 46,
   "id": "df0b809f",
   "metadata": {},
   "outputs": [
    {
     "name": "stdout",
     "output_type": "stream",
     "text": [
      "Epoch 1/10\n",
      "25443/25443 [==============================] - 326s 13ms/step - loss: 0.4448 - accuracy: 0.8079 - val_loss: 0.3967 - val_accuracy: 0.8134\n",
      "Epoch 2/10\n",
      "25443/25443 [==============================] - 327s 13ms/step - loss: 0.3865 - accuracy: 0.8397 - val_loss: 0.4117 - val_accuracy: 0.7983\n",
      "Epoch 3/10\n",
      "25443/25443 [==============================] - 330s 13ms/step - loss: 0.3610 - accuracy: 0.8518 - val_loss: 0.4201 - val_accuracy: 0.8399\n",
      "Epoch 4/10\n",
      "25443/25443 [==============================] - 315s 12ms/step - loss: 0.3508 - accuracy: 0.8575 - val_loss: 0.4010 - val_accuracy: 0.8219\n",
      "Epoch 5/10\n",
      "25443/25443 [==============================] - 327s 13ms/step - loss: 0.3456 - accuracy: 0.8597 - val_loss: 0.4467 - val_accuracy: 0.8060\n",
      "Epoch 6/10\n",
      "25443/25443 [==============================] - 328s 13ms/step - loss: 0.3507 - accuracy: 0.8607 - val_loss: 0.3992 - val_accuracy: 0.8253\n",
      "Epoch 7/10\n",
      "25443/25443 [==============================] - 324s 13ms/step - loss: 0.3561 - accuracy: 0.8617 - val_loss: 0.3982 - val_accuracy: 0.8262\n",
      "Epoch 8/10\n",
      "25443/25443 [==============================] - 325s 13ms/step - loss: 0.3479 - accuracy: 0.8595 - val_loss: 0.4136 - val_accuracy: 0.8134\n",
      "Epoch 9/10\n",
      "25443/25443 [==============================] - 330s 13ms/step - loss: 0.3436 - accuracy: 0.8619 - val_loss: 0.4050 - val_accuracy: 0.8255\n",
      "Epoch 10/10\n",
      "25443/25443 [==============================] - 332s 13ms/step - loss: 0.3496 - accuracy: 0.8614 - val_loss: 0.3753 - val_accuracy: 0.8216\n"
     ]
    }
   ],
   "source": [
    "history = model.fit(train_X, train_y, epochs=epochs, batch_size=batch_size, validation_data=(val_X, val_y), verbose=verbose)"
   ]
  },
  {
   "cell_type": "code",
   "execution_count": 47,
   "id": "f67271cf",
   "metadata": {},
   "outputs": [
    {
     "data": {
      "text/plain": [
       "<matplotlib.legend.Legend at 0x1e8af335ec8>"
      ]
     },
     "execution_count": 47,
     "metadata": {},
     "output_type": "execute_result"
    },
    {
     "data": {
      "image/png": "[encoded data removed]",
      "text/plain": [
       "<Figure size 720x432 with 1 Axes>"
      ]
     },
     "metadata": {
      "needs_background": "light"
     },
     "output_type": "display_data"
    }
   ],
   "source": [
    "plt.figure(figsize=(10,6))\n",
    "plt.plot(history.history['loss'])\n",
    "plt.plot(history.history['val_loss'])\n",
    "plt.ylabel('Loss')\n",
    "plt.xlabel('epoch')\n",
    "plt.legend(['train', 'validation'], loc='upper right')"
   ]
  },
  {
   "cell_type": "code",
   "execution_count": 48,
   "id": "8329ee6f",
   "metadata": {},
   "outputs": [],
   "source": [
    "pred = model.predict(test_X)\n",
    "pred_dict['CNN-LSTM'] = np.array([round(pred[x][0]) for x in range(test_y.shape[0])])"
   ]
  },
  {
   "cell_type": "code",
   "execution_count": 49,
   "id": "b3c650ed",
   "metadata": {},
   "outputs": [
    {
     "name": "stdout",
     "output_type": "stream",
     "text": [
      "Metrics\n",
      "=======================\n",
      "True positive:  1396\n",
      "True negative:  48945\n",
      "False positive:  7579\n",
      "False negative:  3583\n",
      "\n",
      "Accuracy:  0.819\n",
      "F1 score:  0.2\n",
      "Jaccard Score:  0.111\n",
      "G-Mean:  0.493\n"
     ]
    }
   ],
   "source": [
    "temp = pd.DataFrame(classification_metrics(test_y, pred_dict['CNN-LSTM'])).T\n",
    "temp.columns = column\n",
    "metrics = pd.concat([metrics, temp], axis=0)\n",
    "\n",
    "metrics_index.append('CNN-LSTM')"
   ]
  },
  {
   "cell_type": "code",
   "execution_count": 50,
   "id": "d4e94c8a",
   "metadata": {},
   "outputs": [],
   "source": [
    "tf.keras.backend.clear_session()"
   ]
  },
  {
   "cell_type": "markdown",
   "id": "151faebe",
   "metadata": {},
   "source": [
    "# Majority voting of all models"
   ]
  },
  {
   "cell_type": "code",
   "execution_count": 51,
   "id": "81000bae",
   "metadata": {},
   "outputs": [
    {
     "name": "stdout",
     "output_type": "stream",
     "text": [
      "Metrics\n",
      "=======================\n",
      "True positive:  1046\n",
      "True negative:  51894\n",
      "False positive:  4630\n",
      "False negative:  3933\n",
      "\n",
      "Accuracy:  0.861\n",
      "F1 score:  0.196\n",
      "Jaccard Score:  0.109\n",
      "G-Mean:  0.439\n"
     ]
    }
   ],
   "source": [
    "pred_df = pd.DataFrame(pred_dict)\n",
    "pred_df['voting'] = pred_df.sum(axis=1).div(5).round(0)\n",
    "\n",
    "temp = pd.DataFrame(classification_metrics(test_y, pred_df['voting'])).T\n",
    "temp.columns = column\n",
    "metrics = pd.concat([metrics, temp], axis=0)\n",
    "\n",
    "metrics_index.append('voting')"
   ]
  },
  {
   "cell_type": "markdown",
   "id": "eb638741",
   "metadata": {},
   "source": [
    "# Performance"
   ]
  },
  {
   "cell_type": "code",
   "execution_count": 52,
   "id": "da25e127",
   "metadata": {},
   "outputs": [],
   "source": [
    "metrics.index = metrics_index"
   ]
  },
  {
   "cell_type": "code",
   "execution_count": 53,
   "id": "b9776d3d",
   "metadata": {},
   "outputs": [
    {
     "data": {
      "text/html": [
       "<div>\n",
       "<style scoped>\n",
       "    .dataframe tbody tr th:only-of-type {\n",
       "        vertical-align: middle;\n",
       "    }\n",
       "\n",
       "    .dataframe tbody tr th {\n",
       "        vertical-align: top;\n",
       "    }\n",
       "\n",
       "    .dataframe thead th {\n",
       "        text-align: right;\n",
       "    }\n",
       "</style>\n",
       "<table border=\"1\" class=\"dataframe\">\n",
       "  <thead>\n",
       "    <tr style=\"text-align: right;\">\n",
       "      <th></th>\n",
       "      <th>Accuracy</th>\n",
       "      <th>F1 Score</th>\n",
       "      <th>Jaccard Score</th>\n",
       "      <th>G-Mean</th>\n",
       "    </tr>\n",
       "  </thead>\n",
       "  <tbody>\n",
       "    <tr>\n",
       "      <th>Dense</th>\n",
       "      <td>0.852593</td>\n",
       "      <td>0.188216</td>\n",
       "      <td>0.103885</td>\n",
       "      <td>0.438063</td>\n",
       "    </tr>\n",
       "    <tr>\n",
       "      <th>LSTM</th>\n",
       "      <td>0.855568</td>\n",
       "      <td>0.187951</td>\n",
       "      <td>0.103723</td>\n",
       "      <td>0.434110</td>\n",
       "    </tr>\n",
       "    <tr>\n",
       "      <th>CNN</th>\n",
       "      <td>0.859730</td>\n",
       "      <td>0.189877</td>\n",
       "      <td>0.104897</td>\n",
       "      <td>0.431644</td>\n",
       "    </tr>\n",
       "    <tr>\n",
       "      <th>BiLSTM</th>\n",
       "      <td>0.858820</td>\n",
       "      <td>0.196242</td>\n",
       "      <td>0.108796</td>\n",
       "      <td>0.441532</td>\n",
       "    </tr>\n",
       "    <tr>\n",
       "      <th>CNN-LSTM</th>\n",
       "      <td>0.818513</td>\n",
       "      <td>0.200086</td>\n",
       "      <td>0.111164</td>\n",
       "      <td>0.492730</td>\n",
       "    </tr>\n",
       "    <tr>\n",
       "      <th>voting</th>\n",
       "      <td>0.860771</td>\n",
       "      <td>0.196340</td>\n",
       "      <td>0.108856</td>\n",
       "      <td>0.439174</td>\n",
       "    </tr>\n",
       "  </tbody>\n",
       "</table>\n",
       "</div>"
      ],
      "text/plain": [
       "          Accuracy  F1 Score  Jaccard Score    G-Mean\n",
       "Dense     0.852593  0.188216       0.103885  0.438063\n",
       "LSTM      0.855568  0.187951       0.103723  0.434110\n",
       "CNN       0.859730  0.189877       0.104897  0.431644\n",
       "BiLSTM    0.858820  0.196242       0.108796  0.441532\n",
       "CNN-LSTM  0.818513  0.200086       0.111164  0.492730\n",
       "voting    0.860771  0.196340       0.108856  0.439174"
      ]
     },
     "execution_count": 53,
     "metadata": {},
     "output_type": "execute_result"
    }
   ],
   "source": [
    "metrics"
   ]
  },
  {
   "cell_type": "markdown",
   "id": "c2df2539",
   "metadata": {},
   "source": [
    "# Summary "
   ]
  },
  {
   "cell_type": "markdown",
   "id": "d7373eb3",
   "metadata": {},
   "source": [
    "These methods can provide a higher true negative rate but a relatively low true positive rate. It provides a higher F1 score than that using the autoencoders but a slightly lower G-Mean score. The overall performance is better than the performance using autoencoders."
   ]
  }
 ],
 "metadata": {
  "kernelspec": {
   "display_name": "Python 3 (ipykernel)",
   "language": "python",
   "name": "python3"
  },
  "language_info": {
   "codemirror_mode": {
    "name": "ipython",
    "version": 3
   },
   "file_extension": ".py",
   "mimetype": "text/x-python",
   "name": "python",
   "nbconvert_exporter": "python",
   "pygments_lexer": "ipython3",
   "version": "3.8.12"
  }
 },
 "nbformat": 4,
 "nbformat_minor": 5
}
