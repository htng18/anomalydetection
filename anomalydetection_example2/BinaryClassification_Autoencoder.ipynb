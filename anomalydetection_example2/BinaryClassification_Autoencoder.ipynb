{
 "cells": [
  {
   "cell_type": "markdown",
   "id": "f0c02197",
   "metadata": {},
   "source": [
    "# Anomaly detection using autoencoders"
   ]
  },
  {
   "cell_type": "markdown",
   "id": "c5e86d35",
   "metadata": {},
   "source": [
    "Dataset: https://www.kaggle.com/datasets/mishra5001/credit-card\n",
    "\n",
    "We study the anomaly detection using the different types of autoencoder. We have the three types of autoencoders as follows:\n",
    "<li> Dense\n",
    "<li> Convolutional \n",
    "<li> LSTM\n",
    "    \n",
    "We compare the performance of the different autoencoders."
   ]
  },
  {
   "cell_type": "code",
   "execution_count": 1,
   "id": "f42d02eb",
   "metadata": {},
   "outputs": [],
   "source": [
    "import tensorflow as tf\n",
    "physical_devices = tf.config.list_physical_devices('GPU')    \n",
    "for device in physical_devices:\n",
    "    tf.config.experimental.set_memory_growth(device, True)"
   ]
  },
  {
   "cell_type": "code",
   "execution_count": 2,
   "id": "a54f1a72",
   "metadata": {},
   "outputs": [],
   "source": [
    "import pandas as pd\n",
    "import numpy as np\n",
    "import matplotlib.pyplot as plt\n",
    "\n",
    "from sklearn.metrics import accuracy_score, f1_score, confusion_matrix, jaccard_score \n",
    "from sklearn.metrics import precision_score, recall_score, roc_curve, auc\n",
    "from sklearn.metrics import mean_squared_error, mean_absolute_error\n",
    "\n",
    "from tensorflow.keras.models import Sequential\n",
    "from tensorflow.keras.layers import Dense, Dropout, Conv1D\n",
    "from tensorflow.keras.layers import Conv1DTranspose, MaxPooling1D\n",
    "from tensorflow.keras.layers import LSTM, RepeatVector, TimeDistributed\n",
    "tf.keras.backend.set_floatx('float32')\n",
    "\n",
    "import warnings\n",
    "warnings.filterwarnings('ignore')"
   ]
  },
  {
   "cell_type": "code",
   "execution_count": 3,
   "id": "51f65e4a",
   "metadata": {},
   "outputs": [],
   "source": [
    "train_X = pd.read_csv('train_X.csv', index_col=0)\n",
    "test_X = pd.read_csv('test_X.csv', index_col=0)\n",
    "val_X = pd.read_csv('val_X.csv', index_col=0)\n",
    "\n",
    "train_y = pd.read_csv('train_y.csv', index_col=0)\n",
    "test_y = pd.read_csv('test_y.csv', index_col=0)\n",
    "val_y = pd.read_csv('val_y.csv', index_col=0)"
   ]
  },
  {
   "cell_type": "code",
   "execution_count": 4,
   "id": "244c7b0b",
   "metadata": {},
   "outputs": [
    {
     "name": "stdout",
     "output_type": "stream",
     "text": [
      "<class 'pandas.core.frame.DataFrame'>\n",
      "Int64Index: 407088 entries, 0 to 407087\n",
      "Columns: 142 entries, AMT_INCOME_TOTAL to BASEMENTAREA_MODE * NONLIVINGAREA_AVG\n",
      "dtypes: float64(114), int64(28)\n",
      "memory usage: 444.1 MB\n"
     ]
    }
   ],
   "source": [
    "train_X.info()"
   ]
  },
  {
   "cell_type": "code",
   "execution_count": 5,
   "id": "67637123",
   "metadata": {},
   "outputs": [],
   "source": [
    "#num_cols = list(train_X.select_dtypes('float64').columns)"
   ]
  },
  {
   "cell_type": "code",
   "execution_count": 6,
   "id": "5add53dd",
   "metadata": {},
   "outputs": [
    {
     "data": {
      "text/plain": [
       "'\\ntrain_X = train_X[num_cols]\\ntest_X = test_X[num_cols]\\nval_X = val_X[num_cols]\\n'"
      ]
     },
     "execution_count": 6,
     "metadata": {},
     "output_type": "execute_result"
    }
   ],
   "source": [
    "'''\n",
    "train_X = train_X[num_cols]\n",
    "test_X = test_X[num_cols]\n",
    "val_X = val_X[num_cols]\n",
    "'''"
   ]
  },
  {
   "cell_type": "code",
   "execution_count": 7,
   "id": "57273fc0",
   "metadata": {},
   "outputs": [],
   "source": [
    "train = pd.concat([train_y, train_X], axis=1)\n",
    "val = pd.concat([val_y, val_X], axis=1)"
   ]
  },
  {
   "cell_type": "code",
   "execution_count": 8,
   "id": "e5117469",
   "metadata": {},
   "outputs": [],
   "source": [
    "positive_train_X = train[train.TARGET==1].iloc[:,1:].astype('float32').values\n",
    "negative_train_X = train[train.TARGET==0].iloc[:,1:].astype('float32').values\n",
    "positive_val_X = val[val.TARGET==1].iloc[:,1:].astype('float32').values\n",
    "negative_val_X = val[val.TARGET==0].iloc[:,1:].astype('float32').values"
   ]
  },
  {
   "cell_type": "markdown",
   "id": "3cacaa01",
   "metadata": {},
   "source": [
    "# Dense Autoencoder"
   ]
  },
  {
   "cell_type": "code",
   "execution_count": 9,
   "id": "0755fab1",
   "metadata": {},
   "outputs": [],
   "source": [
    "epochs = 10\n",
    "batch_size = 128\n",
    "verbose = 1"
   ]
  },
  {
   "cell_type": "code",
   "execution_count": 10,
   "id": "4023aca5",
   "metadata": {},
   "outputs": [],
   "source": [
    "input_shape = (negative_train_X.shape[-1],)"
   ]
  },
  {
   "cell_type": "code",
   "execution_count": 11,
   "id": "91cdb8e1",
   "metadata": {},
   "outputs": [],
   "source": [
    "output_size = negative_train_X.shape[-1]"
   ]
  },
  {
   "cell_type": "code",
   "execution_count": 12,
   "id": "199ac9c4",
   "metadata": {},
   "outputs": [],
   "source": [
    "def denseautoencoder(input_shape, output_size):\n",
    "    '''\n",
    "    This model exploits the dense layers to construct the autoencoder.\n",
    "    '''\n",
    "    model = Sequential()\n",
    "    model.add(Dense(2048, activation='relu', input_shape=input_shape))\n",
    "    model.add(Dropout(0.1))\n",
    "    model.add(Dense(1024, activation='relu'))\n",
    "    model.add(Dropout(0.1))\n",
    "    model.add(Dense(512, activation='relu'))\n",
    "    model.add(Dropout(0.1))\n",
    "    model.add(Dense(256, activation='relu'))\n",
    "    model.add(Dropout(0.1))\n",
    "    model.add(Dense(128, activation='relu'))\n",
    "    model.add(Dropout(0.1))\n",
    "    model.add(Dense(64, activation='relu'))\n",
    "    model.add(Dropout(0.1))\n",
    "    model.add(Dense(32, activation='relu'))\n",
    "    model.add(Dropout(0.1))\n",
    "    model.add(Dense(64, activation='relu'))\n",
    "    model.add(Dropout(0.1))\n",
    "    model.add(Dense(128, activation='relu'))\n",
    "    model.add(Dropout(0.1))\n",
    "    model.add(Dense(256, activation='relu'))\n",
    "    model.add(Dropout(0.1))\n",
    "    model.add(Dense(512, activation='relu'))\n",
    "    model.add(Dropout(0.1))\n",
    "    model.add(Dense(1024, activation='relu'))\n",
    "    model.add(Dropout(0.1))\n",
    "    model.add(Dense(2048, activation='relu'))\n",
    "    model.add(Dropout(0.1))\n",
    "    model.add(Dense(output_size, activation='softmax'))\n",
    "    model.compile(loss='mae', optimizer='adam')\n",
    "    return model"
   ]
  },
  {
   "cell_type": "code",
   "execution_count": 13,
   "id": "2b197527",
   "metadata": {},
   "outputs": [],
   "source": [
    "model = denseautoencoder(input_shape, output_size)"
   ]
  },
  {
   "cell_type": "code",
   "execution_count": 14,
   "id": "283ea639",
   "metadata": {},
   "outputs": [
    {
     "name": "stdout",
     "output_type": "stream",
     "text": [
      "Model: \"sequential\"\n",
      "_________________________________________________________________\n",
      "Layer (type)                 Output Shape              Param #   \n",
      "=================================================================\n",
      "dense (Dense)                (None, 2048)              292864    \n",
      "_________________________________________________________________\n",
      "dropout (Dropout)            (None, 2048)              0         \n",
      "_________________________________________________________________\n",
      "dense_1 (Dense)              (None, 1024)              2098176   \n",
      "_________________________________________________________________\n",
      "dropout_1 (Dropout)          (None, 1024)              0         \n",
      "_________________________________________________________________\n",
      "dense_2 (Dense)              (None, 512)               524800    \n",
      "_________________________________________________________________\n",
      "dropout_2 (Dropout)          (None, 512)               0         \n",
      "_________________________________________________________________\n",
      "dense_3 (Dense)              (None, 256)               131328    \n",
      "_________________________________________________________________\n",
      "dropout_3 (Dropout)          (None, 256)               0         \n",
      "_________________________________________________________________\n",
      "dense_4 (Dense)              (None, 128)               32896     \n",
      "_________________________________________________________________\n",
      "dropout_4 (Dropout)          (None, 128)               0         \n",
      "_________________________________________________________________\n",
      "dense_5 (Dense)              (None, 64)                8256      \n",
      "_________________________________________________________________\n",
      "dropout_5 (Dropout)          (None, 64)                0         \n",
      "_________________________________________________________________\n",
      "dense_6 (Dense)              (None, 32)                2080      \n",
      "_________________________________________________________________\n",
      "dropout_6 (Dropout)          (None, 32)                0         \n",
      "_________________________________________________________________\n",
      "dense_7 (Dense)              (None, 64)                2112      \n",
      "_________________________________________________________________\n",
      "dropout_7 (Dropout)          (None, 64)                0         \n",
      "_________________________________________________________________\n",
      "dense_8 (Dense)              (None, 128)               8320      \n",
      "_________________________________________________________________\n",
      "dropout_8 (Dropout)          (None, 128)               0         \n",
      "_________________________________________________________________\n",
      "dense_9 (Dense)              (None, 256)               33024     \n",
      "_________________________________________________________________\n",
      "dropout_9 (Dropout)          (None, 256)               0         \n",
      "_________________________________________________________________\n",
      "dense_10 (Dense)             (None, 512)               131584    \n",
      "_________________________________________________________________\n",
      "dropout_10 (Dropout)         (None, 512)               0         \n",
      "_________________________________________________________________\n",
      "dense_11 (Dense)             (None, 1024)              525312    \n",
      "_________________________________________________________________\n",
      "dropout_11 (Dropout)         (None, 1024)              0         \n",
      "_________________________________________________________________\n",
      "dense_12 (Dense)             (None, 2048)              2099200   \n",
      "_________________________________________________________________\n",
      "dropout_12 (Dropout)         (None, 2048)              0         \n",
      "_________________________________________________________________\n",
      "dense_13 (Dense)             (None, 142)               290958    \n",
      "=================================================================\n",
      "Total params: 6,180,910\n",
      "Trainable params: 6,180,910\n",
      "Non-trainable params: 0\n",
      "_________________________________________________________________\n"
     ]
    }
   ],
   "source": [
    "model.summary()"
   ]
  },
  {
   "cell_type": "code",
   "execution_count": 15,
   "id": "2e295f47",
   "metadata": {},
   "outputs": [
    {
     "name": "stdout",
     "output_type": "stream",
     "text": [
      "Epoch 1/10\n",
      "1591/1591 [==============================] - 25s 15ms/step - loss: 0.4840 - val_loss: 0.4906\n",
      "Epoch 2/10\n",
      "1591/1591 [==============================] - 23s 14ms/step - loss: 0.4807 - val_loss: 0.4906\n",
      "Epoch 3/10\n",
      "1591/1591 [==============================] - 23s 14ms/step - loss: 0.4824 - val_loss: 0.4906\n",
      "Epoch 4/10\n",
      "1591/1591 [==============================] - 23s 14ms/step - loss: 0.4823 - val_loss: 0.4906\n",
      "Epoch 5/10\n",
      "1591/1591 [==============================] - 23s 14ms/step - loss: 0.4784 - val_loss: 0.4906\n",
      "Epoch 6/10\n",
      "1591/1591 [==============================] - 23s 14ms/step - loss: 0.4797 - val_loss: 0.4906\n",
      "Epoch 7/10\n",
      "1591/1591 [==============================] - 23s 14ms/step - loss: 0.4824 - val_loss: 0.4906\n",
      "Epoch 8/10\n",
      "1591/1591 [==============================] - 23s 14ms/step - loss: 0.4843 - val_loss: 0.4906\n",
      "Epoch 9/10\n",
      "1591/1591 [==============================] - 23s 14ms/step - loss: 0.4800 - val_loss: 0.4906\n",
      "Epoch 10/10\n",
      "1591/1591 [==============================] - 23s 14ms/step - loss: 0.4839 - val_loss: 0.4906\n"
     ]
    }
   ],
   "source": [
    "history = model.fit(negative_train_X, negative_train_X, epochs=epochs, batch_size=batch_size, validation_data=(negative_val_X, negative_val_X), verbose=verbose)"
   ]
  },
  {
   "cell_type": "code",
   "execution_count": 16,
   "id": "516b4770",
   "metadata": {},
   "outputs": [
    {
     "data": {
      "text/plain": [
       "<matplotlib.legend.Legend at 0x1fcec375548>"
      ]
     },
     "execution_count": 16,
     "metadata": {},
     "output_type": "execute_result"
    },
    {
     "data": {
      "image/png": "[encoded data removed]",
      "text/plain": [
       "<Figure size 720x432 with 1 Axes>"
      ]
     },
     "metadata": {
      "needs_background": "light"
     },
     "output_type": "display_data"
    }
   ],
   "source": [
    "plt.figure(figsize=(10,6))\n",
    "plt.plot(history.history['loss'])\n",
    "plt.ylabel('Loss')\n",
    "plt.xlabel('epoch')\n",
    "plt.legend(['train'], loc='upper right')"
   ]
  },
  {
   "cell_type": "code",
   "execution_count": 17,
   "id": "77f74948",
   "metadata": {},
   "outputs": [],
   "source": [
    "def reconstruct_err(model, data):\n",
    "    reconstructions = model.predict(data)\n",
    "    #err = mean_squared_error(data.T, reconstructions.T, multioutput='raw_values')\n",
    "    err = mean_absolute_error(data.T, reconstructions.T, multioutput='raw_values')\n",
    "    return err"
   ]
  },
  {
   "cell_type": "code",
   "execution_count": 18,
   "id": "43f51212",
   "metadata": {},
   "outputs": [],
   "source": [
    "negative_err = reconstruct_err(model, negative_train_X)\n",
    "positive_err = reconstruct_err(model, positive_train_X)\n",
    "\n",
    "diff = []\n",
    "negative_percentile = []\n",
    "positive_percentile = []\n",
    "for i in range(1,100):\n",
    "    diff.append(np.abs(np.percentile(negative_err, i) - np.percentile(positive_err, 100-i)))\n",
    "    negative_percentile.append(np.percentile(negative_err, i))\n",
    "    positive_percentile.append(np.percentile(positive_err, 100-i))"
   ]
  },
  {
   "cell_type": "code",
   "execution_count": 19,
   "id": "5c51b83a",
   "metadata": {},
   "outputs": [
    {
     "data": {
      "image/png": "[encoded data removed]",
      "text/plain": [
       "<Figure size 720x360 with 1 Axes>"
      ]
     },
     "metadata": {
      "needs_background": "light"
     },
     "output_type": "display_data"
    }
   ],
   "source": [
    "plt.figure(figsize=(10,5))\n",
    "plt.plot(negative_percentile, label='Negative: Percentile(x)')\n",
    "plt.plot(positive_percentile, label='Posiitive: Percentile(100-x)')\n",
    "plt.legend()\n",
    "plt.ylabel('Reconstucted error')\n",
    "plt.xlabel('x')\n",
    "plt.show()"
   ]
  },
  {
   "cell_type": "markdown",
   "id": "274e8c9f",
   "metadata": {},
   "source": [
    "On average, the reconstructed error of negative data is higher"
   ]
  },
  {
   "cell_type": "code",
   "execution_count": 20,
   "id": "47bb6665",
   "metadata": {},
   "outputs": [],
   "source": [
    "min_index = np.argmin(diff)\n",
    "threshold = np.percentile(negative_err, min_index) "
   ]
  },
  {
   "cell_type": "code",
   "execution_count": 21,
   "id": "92ab5bec",
   "metadata": {},
   "outputs": [],
   "source": [
    "err = reconstruct_err(model, test_X)"
   ]
  },
  {
   "cell_type": "code",
   "execution_count": 22,
   "id": "963350e8",
   "metadata": {},
   "outputs": [],
   "source": [
    "def prediction(err, test_y):\n",
    "    size = test_y.shape[0]\n",
    "    index = np.where(err<threshold)\n",
    "    index = list(index[0])\n",
    "    pred = [0]*size\n",
    "    for i in index:\n",
    "        pred[i] = 1\n",
    "    return pred"
   ]
  },
  {
   "cell_type": "code",
   "execution_count": 23,
   "id": "4f5ac904",
   "metadata": {},
   "outputs": [],
   "source": [
    "pred_dict = {}"
   ]
  },
  {
   "cell_type": "code",
   "execution_count": 24,
   "id": "a3563169",
   "metadata": {},
   "outputs": [],
   "source": [
    "pred_dict['dense'] = prediction(err, test_y)"
   ]
  },
  {
   "cell_type": "code",
   "execution_count": 25,
   "id": "e1f3a7b2",
   "metadata": {},
   "outputs": [],
   "source": [
    "def classification_metrics(truedata, pred):\n",
    "    print(\"Metrics\")\n",
    "    print(\"=======================\")\n",
    "    tn, fp, fn, tp = confusion_matrix(truedata, pred).ravel()\n",
    "    print(\"True positive: \", tp)\n",
    "    print(\"True negative: \", tn)\n",
    "    print(\"False positive: \", fp)\n",
    "    print(\"False negative: \", fn)\n",
    "    print()\n",
    "    acc = accuracy_score(truedata, pred)\n",
    "    f1 = f1_score(truedata, pred)\n",
    "    jaccard = jaccard_score(truedata, pred)\n",
    "    sensitivity = tp / (tp + fn)\n",
    "    specificity = tn / (fp + tn)\n",
    "    gmean = np.sqrt(sensitivity*specificity)\n",
    "    print(\"Accuracy: \", round(acc,3))\n",
    "    print(\"F1 score: \", round(f1,3))\n",
    "    print(\"Jaccard Score: \", round(jaccard,3))\n",
    "    print(\"G-Mean: \", round(gmean,3))\n",
    "    return [acc, f1, jaccard, gmean]"
   ]
  },
  {
   "cell_type": "code",
   "execution_count": 26,
   "id": "3aecc78f",
   "metadata": {},
   "outputs": [
    {
     "name": "stdout",
     "output_type": "stream",
     "text": [
      "Metrics\n",
      "=======================\n",
      "True positive:  2250\n",
      "True negative:  33383\n",
      "False positive:  23141\n",
      "False negative:  2729\n",
      "\n",
      "Accuracy:  0.579\n",
      "F1 score:  0.148\n",
      "Jaccard Score:  0.08\n",
      "G-Mean:  0.517\n"
     ]
    }
   ],
   "source": [
    "column = ['Accuracy', 'F1 Score', 'Jaccard Score', 'G-Mean']\n",
    "metrics = pd.DataFrame(columns=column)\n",
    "\n",
    "temp = pd.DataFrame(classification_metrics(test_y, pred_dict['dense'])).T\n",
    "temp.columns = column\n",
    "metrics = pd.concat([metrics, temp], axis=0)\n",
    "\n",
    "metrics_index = []\n",
    "metrics_index.append('Dense')"
   ]
  },
  {
   "cell_type": "code",
   "execution_count": 27,
   "id": "4d404426",
   "metadata": {},
   "outputs": [],
   "source": [
    "tf.keras.backend.clear_session()"
   ]
  },
  {
   "cell_type": "markdown",
   "id": "b095e6df",
   "metadata": {},
   "source": [
    "# Convolutional Autoencoder"
   ]
  },
  {
   "cell_type": "code",
   "execution_count": 28,
   "id": "8a8dbdfe",
   "metadata": {},
   "outputs": [],
   "source": [
    "positive_train_X = positive_train_X.reshape(positive_train_X.shape[0], positive_train_X.shape[-1], 1)\n",
    "negative_train_X = negative_train_X.reshape(negative_train_X.shape[0], negative_train_X.shape[-1], 1)\n",
    "positive_val_X = positive_val_X.reshape(positive_val_X.shape[0], positive_val_X.shape[-1], 1)\n",
    "negative_val_X = negative_val_X.reshape(negative_val_X.shape[0], negative_val_X.shape[-1], 1)"
   ]
  },
  {
   "cell_type": "code",
   "execution_count": 29,
   "id": "bf66794e",
   "metadata": {},
   "outputs": [],
   "source": [
    "test_X = test_X.values.reshape(test_X.shape[0], test_X.shape[-1], 1)"
   ]
  },
  {
   "cell_type": "code",
   "execution_count": 30,
   "id": "6f4b3734",
   "metadata": {},
   "outputs": [],
   "source": [
    "input_shape = (negative_train_X.shape[1], 1)"
   ]
  },
  {
   "cell_type": "code",
   "execution_count": 31,
   "id": "263c0e55",
   "metadata": {},
   "outputs": [],
   "source": [
    "def convolutionalautoencoder(input_shape):\n",
    "    '''\n",
    "    This model exploits the convolutional layers to construct the autoencoder.\n",
    "    '''\n",
    "    model = Sequential()\n",
    "    model.add(Conv1D(filters=512, kernel_size=9, padding=\"same\", strides=1, activation=\"relu\", input_shape=input_shape))\n",
    "    model.add(Dropout(rate=0.1))\n",
    "    model.add(Conv1D(filters=256, kernel_size=9, padding=\"same\", strides=1, activation=\"relu\"))\n",
    "    model.add(Dropout(rate=0.1))\n",
    "    model.add(Conv1D(filters=128, kernel_size=9, padding=\"same\", strides=1, activation=\"relu\"))\n",
    "    model.add(Dropout(rate=0.1))\n",
    "    model.add(Conv1D(filters=64, kernel_size=9, padding=\"same\", strides=1, activation=\"relu\"))\n",
    "    model.add(Dropout(rate=0.1))\n",
    "    model.add(Conv1DTranspose(filters=64, kernel_size=9, padding=\"same\", strides=1, activation=\"relu\"))\n",
    "    model.add(Dropout(rate=0.1))\n",
    "    model.add(Conv1DTranspose(filters=128, kernel_size=9, padding=\"same\", strides=1, activation=\"relu\"))\n",
    "    model.add(Dropout(rate=0.1))\n",
    "    model.add(Conv1DTranspose(filters=256, kernel_size=9, padding=\"same\", strides=1, activation=\"relu\"))\n",
    "    model.add(Dropout(rate=0.1))\n",
    "    model.add(Conv1DTranspose(filters=512, kernel_size=9, padding=\"same\", strides=1, activation=\"relu\"))\n",
    "    model.add(Dropout(rate=0.1))\n",
    "    model.add(Conv1DTranspose(filters=1, kernel_size=9, padding=\"same\"))\n",
    "    model.compile(optimizer='adam',loss=\"mae\")\n",
    "    return model"
   ]
  },
  {
   "cell_type": "code",
   "execution_count": 32,
   "id": "a1254efa",
   "metadata": {},
   "outputs": [],
   "source": [
    "model = convolutionalautoencoder(input_shape)"
   ]
  },
  {
   "cell_type": "code",
   "execution_count": 33,
   "id": "bdf6b32d",
   "metadata": {},
   "outputs": [
    {
     "name": "stdout",
     "output_type": "stream",
     "text": [
      "Model: \"sequential\"\n",
      "_________________________________________________________________\n",
      "Layer (type)                 Output Shape              Param #   \n",
      "=================================================================\n",
      "conv1d (Conv1D)              (None, 142, 512)          5120      \n",
      "_________________________________________________________________\n",
      "dropout (Dropout)            (None, 142, 512)          0         \n",
      "_________________________________________________________________\n",
      "conv1d_1 (Conv1D)            (None, 142, 256)          1179904   \n",
      "_________________________________________________________________\n",
      "dropout_1 (Dropout)          (None, 142, 256)          0         \n",
      "_________________________________________________________________\n",
      "conv1d_2 (Conv1D)            (None, 142, 128)          295040    \n",
      "_________________________________________________________________\n",
      "dropout_2 (Dropout)          (None, 142, 128)          0         \n",
      "_________________________________________________________________\n",
      "conv1d_3 (Conv1D)            (None, 142, 64)           73792     \n",
      "_________________________________________________________________\n",
      "dropout_3 (Dropout)          (None, 142, 64)           0         \n",
      "_________________________________________________________________\n",
      "conv1d_transpose (Conv1DTran (None, 142, 64)           36928     \n",
      "_________________________________________________________________\n",
      "dropout_4 (Dropout)          (None, 142, 64)           0         \n",
      "_________________________________________________________________\n",
      "conv1d_transpose_1 (Conv1DTr (None, 142, 128)          73856     \n",
      "_________________________________________________________________\n",
      "dropout_5 (Dropout)          (None, 142, 128)          0         \n",
      "_________________________________________________________________\n",
      "conv1d_transpose_2 (Conv1DTr (None, 142, 256)          295168    \n",
      "_________________________________________________________________\n",
      "dropout_6 (Dropout)          (None, 142, 256)          0         \n",
      "_________________________________________________________________\n",
      "conv1d_transpose_3 (Conv1DTr (None, 142, 512)          1180160   \n",
      "_________________________________________________________________\n",
      "dropout_7 (Dropout)          (None, 142, 512)          0         \n",
      "_________________________________________________________________\n",
      "conv1d_transpose_4 (Conv1DTr (None, 142, 1)            4609      \n",
      "=================================================================\n",
      "Total params: 3,144,577\n",
      "Trainable params: 3,144,577\n",
      "Non-trainable params: 0\n",
      "_________________________________________________________________\n"
     ]
    }
   ],
   "source": [
    "model.summary()"
   ]
  },
  {
   "cell_type": "code",
   "execution_count": 34,
   "id": "56c624bd",
   "metadata": {},
   "outputs": [
    {
     "name": "stdout",
     "output_type": "stream",
     "text": [
      "Epoch 1/10\n",
      "1591/1591 [==============================] - 432s 269ms/step - loss: 0.1911 - val_loss: 0.0375\n",
      "Epoch 2/10\n",
      "1591/1591 [==============================] - 422s 265ms/step - loss: 0.0715 - val_loss: 0.0336\n",
      "Epoch 3/10\n",
      "1591/1591 [==============================] - 411s 258ms/step - loss: 0.0735 - val_loss: 0.0417\n",
      "Epoch 4/10\n",
      "1591/1591 [==============================] - 416s 261ms/step - loss: 0.0632 - val_loss: 0.0496\n",
      "Epoch 5/10\n",
      "1591/1591 [==============================] - 419s 263ms/step - loss: 0.0617 - val_loss: 0.0552\n",
      "Epoch 6/10\n",
      "1591/1591 [==============================] - 420s 264ms/step - loss: 0.0663 - val_loss: 0.0978\n",
      "Epoch 7/10\n",
      "1591/1591 [==============================] - 422s 265ms/step - loss: 0.0624 - val_loss: 0.0494\n",
      "Epoch 8/10\n",
      "1591/1591 [==============================] - 419s 263ms/step - loss: 0.0565 - val_loss: 0.0683\n",
      "Epoch 9/10\n",
      "1591/1591 [==============================] - 422s 265ms/step - loss: 0.0681 - val_loss: 0.0383\n",
      "Epoch 10/10\n",
      "1591/1591 [==============================] - 423s 266ms/step - loss: 0.0548 - val_loss: 0.0521\n"
     ]
    }
   ],
   "source": [
    "history = model.fit(negative_train_X, negative_train_X, epochs=epochs, batch_size=batch_size, validation_data=(negative_val_X, negative_val_X), verbose=verbose)"
   ]
  },
  {
   "cell_type": "code",
   "execution_count": 35,
   "id": "544ca97a",
   "metadata": {},
   "outputs": [
    {
     "data": {
      "text/plain": [
       "<matplotlib.legend.Legend at 0x1fd58a96288>"
      ]
     },
     "execution_count": 35,
     "metadata": {},
     "output_type": "execute_result"
    },
    {
     "data": {
      "image/png": "[encoded data removed]",
      "text/plain": [
       "<Figure size 720x432 with 1 Axes>"
      ]
     },
     "metadata": {
      "needs_background": "light"
     },
     "output_type": "display_data"
    }
   ],
   "source": [
    "plt.figure(figsize=(10,6))\n",
    "plt.plot(history.history['loss'])\n",
    "plt.ylabel('Loss')\n",
    "plt.xlabel('epoch')\n",
    "plt.legend(['train', 'validation'], loc='upper right')"
   ]
  },
  {
   "cell_type": "code",
   "execution_count": 36,
   "id": "7be01d7c",
   "metadata": {},
   "outputs": [
    {
     "data": {
      "text/plain": [
       "<matplotlib.legend.Legend at 0x1fcd284b7c8>"
      ]
     },
     "execution_count": 36,
     "metadata": {},
     "output_type": "execute_result"
    },
    {
     "data": {
      "image/png": "[encoded data removed]",
      "text/plain": [
       "<Figure size 720x432 with 1 Axes>"
      ]
     },
     "metadata": {
      "needs_background": "light"
     },
     "output_type": "display_data"
    }
   ],
   "source": [
    "plt.figure(figsize=(10,6))\n",
    "plt.plot(history.history['val_loss'])\n",
    "plt.ylabel('Loss')\n",
    "plt.xlabel('epoch')\n",
    "plt.legend(['train', 'validation'], loc='upper right')"
   ]
  },
  {
   "cell_type": "code",
   "execution_count": 37,
   "id": "a4d80c5d",
   "metadata": {},
   "outputs": [],
   "source": [
    "def conv_reconstruct_err(model, data):\n",
    "    reconstructions = model.predict(data)[:,:,0]\n",
    "    #err = mean_squared_error(data[:,:,0].T, reconstructions.T, multioutput='raw_values')\n",
    "    err = mean_absolute_error(data[:,:,0].T, reconstructions.T, multioutput='raw_values')\n",
    "    return err"
   ]
  },
  {
   "cell_type": "code",
   "execution_count": 38,
   "id": "87c65985",
   "metadata": {},
   "outputs": [
    {
     "name": "stdout",
     "output_type": "stream",
     "text": [
      "Metrics\n",
      "=======================\n",
      "True positive:  2521\n",
      "True negative:  30596\n",
      "False positive:  25928\n",
      "False negative:  2458\n",
      "\n",
      "Accuracy:  0.538\n",
      "F1 score:  0.151\n",
      "Jaccard Score:  0.082\n",
      "G-Mean:  0.524\n"
     ]
    }
   ],
   "source": [
    "negative_err = conv_reconstruct_err(model, negative_train_X)\n",
    "positive_err = conv_reconstruct_err(model, positive_train_X)\n",
    "\n",
    "diff = []\n",
    "negative_percentile = []\n",
    "positive_percentile = []\n",
    "for i in range(1,100):\n",
    "    diff.append(np.abs(np.percentile(negative_err, i) - np.percentile(positive_err, 100-i)))\n",
    "    negative_percentile.append(np.percentile(negative_err, i))\n",
    "    positive_percentile.append(np.percentile(positive_err, 100-i))\n",
    "    \n",
    "min_index = np.argmin(diff)\n",
    "threshold = np.percentile(negative_err, min_index) \n",
    "\n",
    "err = conv_reconstruct_err(model, test_X)\n",
    "\n",
    "pred_dict['Convolutional'] = prediction(err, test_X)\n",
    "\n",
    "temp = pd.DataFrame(classification_metrics(test_y, pred_dict['Convolutional'])).T\n",
    "temp.columns = column\n",
    "metrics = pd.concat([metrics, temp], axis=0)\n",
    "\n",
    "metrics_index.append('Convolutional')"
   ]
  },
  {
   "cell_type": "code",
   "execution_count": 39,
   "id": "73e3f608",
   "metadata": {},
   "outputs": [],
   "source": [
    "tf.keras.backend.clear_session()"
   ]
  },
  {
   "cell_type": "markdown",
   "id": "dc1c48b4",
   "metadata": {},
   "source": [
    "# LSTM Autoencoder"
   ]
  },
  {
   "cell_type": "code",
   "execution_count": 40,
   "id": "ff0895c2",
   "metadata": {},
   "outputs": [],
   "source": [
    "positive_train_X = positive_train_X.reshape(positive_train_X.shape[0], 1, positive_train_X.shape[1])\n",
    "negative_train_X = negative_train_X.reshape(negative_train_X.shape[0], 1, negative_train_X.shape[1])\n",
    "positive_val_X = positive_val_X.reshape(positive_val_X.shape[0], 1, positive_val_X.shape[1])\n",
    "negative_val_X = negative_val_X.reshape(negative_val_X.shape[0], 1, negative_val_X.shape[1])"
   ]
  },
  {
   "cell_type": "code",
   "execution_count": 41,
   "id": "c1e7c1ec",
   "metadata": {},
   "outputs": [],
   "source": [
    "test_X = test_X.reshape(test_X.shape[0], 1, test_X.shape[1])"
   ]
  },
  {
   "cell_type": "code",
   "execution_count": 42,
   "id": "182cff87",
   "metadata": {},
   "outputs": [],
   "source": [
    "input_shape = (1, negative_train_X.shape[-1])"
   ]
  },
  {
   "cell_type": "code",
   "execution_count": 43,
   "id": "23617b58",
   "metadata": {},
   "outputs": [],
   "source": [
    "output_size = negative_train_X.shape[-1]"
   ]
  },
  {
   "cell_type": "code",
   "execution_count": 44,
   "id": "62e881c6",
   "metadata": {},
   "outputs": [],
   "source": [
    "def lstmautoencoder(input_shape, output_size):\n",
    "    '''\n",
    "    This model adopts the LSTM layer to construct the autoencoder.\n",
    "    '''\n",
    "    model = Sequential()\n",
    "    model.add(LSTM(2056, activation='relu', input_shape=input_shape, return_sequences=True))\n",
    "    model.add(Dropout(rate=0.1))\n",
    "    model.add(LSTM(1024, activation='relu', return_sequences=True))\n",
    "    model.add(Dropout(rate=0.1))\n",
    "    model.add(LSTM(512, activation='relu', return_sequences=True))\n",
    "    model.add(Dropout(rate=0.1))\n",
    "    model.add(LSTM(256, activation='relu', return_sequences=True))\n",
    "    model.add(Dropout(rate=0.1))\n",
    "    model.add(LSTM(128, activation='relu', return_sequences=False))\n",
    "    model.add(Dropout(rate=0.1))\n",
    "    model.add(RepeatVector(1))\n",
    "    model.add(LSTM(128, activation='relu', return_sequences=True))\n",
    "    model.add(Dropout(rate=0.1))\n",
    "    model.add(LSTM(256, activation='relu', return_sequences=True))\n",
    "    model.add(Dropout(rate=0.1))\n",
    "    model.add(LSTM(512, activation='relu', return_sequences=True))\n",
    "    model.add(Dropout(rate=0.1))\n",
    "    model.add(LSTM(1024, activation='relu', return_sequences=True))\n",
    "    model.add(Dropout(rate=0.1))\n",
    "    model.add(LSTM(2056, activation='relu', return_sequences=True))\n",
    "    model.add(Dropout(rate=0.1))\n",
    "    model.add(TimeDistributed(Dense(output_size)))\n",
    "    model.compile(optimizer='adam', loss='mae')\n",
    "    return model"
   ]
  },
  {
   "cell_type": "code",
   "execution_count": 45,
   "id": "37b1ecd0",
   "metadata": {},
   "outputs": [
    {
     "name": "stdout",
     "output_type": "stream",
     "text": [
      "WARNING:tensorflow:Layer lstm will not use cuDNN kernel since it doesn't meet the cuDNN kernel criteria. It will use generic GPU kernel as fallback when running on GPU\n",
      "WARNING:tensorflow:Layer lstm_1 will not use cuDNN kernel since it doesn't meet the cuDNN kernel criteria. It will use generic GPU kernel as fallback when running on GPU\n",
      "WARNING:tensorflow:Layer lstm_2 will not use cuDNN kernel since it doesn't meet the cuDNN kernel criteria. It will use generic GPU kernel as fallback when running on GPU\n",
      "WARNING:tensorflow:Layer lstm_3 will not use cuDNN kernel since it doesn't meet the cuDNN kernel criteria. It will use generic GPU kernel as fallback when running on GPU\n",
      "WARNING:tensorflow:Layer lstm_4 will not use cuDNN kernel since it doesn't meet the cuDNN kernel criteria. It will use generic GPU kernel as fallback when running on GPU\n",
      "WARNING:tensorflow:Layer lstm_5 will not use cuDNN kernel since it doesn't meet the cuDNN kernel criteria. It will use generic GPU kernel as fallback when running on GPU\n",
      "WARNING:tensorflow:Layer lstm_6 will not use cuDNN kernel since it doesn't meet the cuDNN kernel criteria. It will use generic GPU kernel as fallback when running on GPU\n",
      "WARNING:tensorflow:Layer lstm_7 will not use cuDNN kernel since it doesn't meet the cuDNN kernel criteria. It will use generic GPU kernel as fallback when running on GPU\n",
      "WARNING:tensorflow:Layer lstm_8 will not use cuDNN kernel since it doesn't meet the cuDNN kernel criteria. It will use generic GPU kernel as fallback when running on GPU\n",
      "WARNING:tensorflow:Layer lstm_9 will not use cuDNN kernel since it doesn't meet the cuDNN kernel criteria. It will use generic GPU kernel as fallback when running on GPU\n"
     ]
    }
   ],
   "source": [
    "model = lstmautoencoder(input_shape, output_size)"
   ]
  },
  {
   "cell_type": "code",
   "execution_count": 46,
   "id": "6ba436be",
   "metadata": {},
   "outputs": [
    {
     "name": "stdout",
     "output_type": "stream",
     "text": [
      "Model: \"sequential\"\n",
      "_________________________________________________________________\n",
      "Layer (type)                 Output Shape              Param #   \n",
      "=================================================================\n",
      "lstm (LSTM)                  (None, 1, 2056)           18084576  \n",
      "_________________________________________________________________\n",
      "dropout (Dropout)            (None, 1, 2056)           0         \n",
      "_________________________________________________________________\n",
      "lstm_1 (LSTM)                (None, 1, 1024)           12619776  \n",
      "_________________________________________________________________\n",
      "dropout_1 (Dropout)          (None, 1, 1024)           0         \n",
      "_________________________________________________________________\n",
      "lstm_2 (LSTM)                (None, 1, 512)            3147776   \n",
      "_________________________________________________________________\n",
      "dropout_2 (Dropout)          (None, 1, 512)            0         \n",
      "_________________________________________________________________\n",
      "lstm_3 (LSTM)                (None, 1, 256)            787456    \n",
      "_________________________________________________________________\n",
      "dropout_3 (Dropout)          (None, 1, 256)            0         \n",
      "_________________________________________________________________\n",
      "lstm_4 (LSTM)                (None, 128)               197120    \n",
      "_________________________________________________________________\n",
      "dropout_4 (Dropout)          (None, 128)               0         \n",
      "_________________________________________________________________\n",
      "repeat_vector (RepeatVector) (None, 1, 128)            0         \n",
      "_________________________________________________________________\n",
      "lstm_5 (LSTM)                (None, 1, 128)            131584    \n",
      "_________________________________________________________________\n",
      "dropout_5 (Dropout)          (None, 1, 128)            0         \n",
      "_________________________________________________________________\n",
      "lstm_6 (LSTM)                (None, 1, 256)            394240    \n",
      "_________________________________________________________________\n",
      "dropout_6 (Dropout)          (None, 1, 256)            0         \n",
      "_________________________________________________________________\n",
      "lstm_7 (LSTM)                (None, 1, 512)            1574912   \n",
      "_________________________________________________________________\n",
      "dropout_7 (Dropout)          (None, 1, 512)            0         \n",
      "_________________________________________________________________\n",
      "lstm_8 (LSTM)                (None, 1, 1024)           6295552   \n",
      "_________________________________________________________________\n",
      "dropout_8 (Dropout)          (None, 1, 1024)           0         \n",
      "_________________________________________________________________\n",
      "lstm_9 (LSTM)                (None, 1, 2056)           25338144  \n",
      "_________________________________________________________________\n",
      "dropout_9 (Dropout)          (None, 1, 2056)           0         \n",
      "_________________________________________________________________\n",
      "time_distributed (TimeDistri (None, 1, 142)            292094    \n",
      "=================================================================\n",
      "Total params: 68,863,230\n",
      "Trainable params: 68,863,230\n",
      "Non-trainable params: 0\n",
      "_________________________________________________________________\n"
     ]
    }
   ],
   "source": [
    "model.summary()"
   ]
  },
  {
   "cell_type": "code",
   "execution_count": 47,
   "id": "e465bb22",
   "metadata": {},
   "outputs": [
    {
     "name": "stdout",
     "output_type": "stream",
     "text": [
      "Epoch 1/10\n",
      "1591/1591 [==============================] - 244s 147ms/step - loss: 0.4434 - val_loss: 0.4437\n",
      "Epoch 2/10\n",
      "1591/1591 [==============================] - 234s 147ms/step - loss: 0.4329 - val_loss: 0.4436\n",
      "Epoch 3/10\n",
      "1591/1591 [==============================] - 234s 147ms/step - loss: 0.4325 - val_loss: 0.4435\n",
      "Epoch 4/10\n",
      "1591/1591 [==============================] - 234s 147ms/step - loss: 0.4334 - val_loss: 0.4434\n",
      "Epoch 5/10\n",
      "1591/1591 [==============================] - 234s 147ms/step - loss: 0.4357 - val_loss: 0.4434\n",
      "Epoch 6/10\n",
      "1591/1591 [==============================] - 235s 148ms/step - loss: 0.4336 - val_loss: 0.4434\n",
      "Epoch 7/10\n",
      "1591/1591 [==============================] - 234s 147ms/step - loss: 0.4341 - val_loss: 0.4434\n",
      "Epoch 8/10\n",
      "1591/1591 [==============================] - 236s 148ms/step - loss: 0.4342 - val_loss: 0.4434\n",
      "Epoch 9/10\n",
      "1591/1591 [==============================] - 236s 149ms/step - loss: 0.4342 - val_loss: 0.4434\n",
      "Epoch 10/10\n",
      "1591/1591 [==============================] - 236s 148ms/step - loss: 0.4343 - val_loss: 0.4433\n"
     ]
    }
   ],
   "source": [
    "history = model.fit(negative_train_X, negative_train_X, epochs=epochs, batch_size=batch_size, validation_data=(negative_val_X, negative_val_X), verbose=verbose)"
   ]
  },
  {
   "cell_type": "code",
   "execution_count": 48,
   "id": "a9ace04f",
   "metadata": {},
   "outputs": [],
   "source": [
    "def lstm_reconstruct_err(model, data):\n",
    "    reconstructions = model.predict(data)[:,0,:]\n",
    "    #err = mean_squared_error(data[:,0,:].T, reconstructions.T, multioutput='raw_values')\n",
    "    err = mean_absolute_error(data[:,0,:].T, reconstructions.T, multioutput='raw_values')\n",
    "    return err"
   ]
  },
  {
   "cell_type": "code",
   "execution_count": 49,
   "id": "00173bab",
   "metadata": {},
   "outputs": [
    {
     "name": "stdout",
     "output_type": "stream",
     "text": [
      "Metrics\n",
      "=======================\n",
      "True positive:  2277\n",
      "True negative:  33282\n",
      "False positive:  23242\n",
      "False negative:  2702\n",
      "\n",
      "Accuracy:  0.578\n",
      "F1 score:  0.149\n",
      "Jaccard Score:  0.081\n",
      "G-Mean:  0.519\n"
     ]
    }
   ],
   "source": [
    "negative_err = lstm_reconstruct_err(model, negative_train_X)\n",
    "positive_err = lstm_reconstruct_err(model, positive_train_X)\n",
    "\n",
    "diff = []\n",
    "negative_percentile = []\n",
    "positive_percentile = []\n",
    "for i in range(1,100):\n",
    "    diff.append(np.abs(np.percentile(negative_err, i) - np.percentile(positive_err, 100-i)))\n",
    "    negative_percentile.append(np.percentile(negative_err, i))\n",
    "    positive_percentile.append(np.percentile(positive_err, 100-i))\n",
    "\n",
    "min_index = np.argmin(diff)\n",
    "threshold = np.percentile(negative_err, min_index) \n",
    "#threshold = np.percentile(positive_err, min_index) \n",
    "\n",
    "err = lstm_reconstruct_err(model, test_X)\n",
    "\n",
    "pred_dict['lstm'] = prediction(err, test_X)\n",
    "\n",
    "temp = pd.DataFrame(classification_metrics(test_y, pred_dict['lstm'])).T\n",
    "temp.columns = column\n",
    "metrics = pd.concat([metrics, temp], axis=0)\n",
    "\n",
    "metrics_index.append('lstm')"
   ]
  },
  {
   "cell_type": "markdown",
   "id": "7a973018",
   "metadata": {},
   "source": [
    "# Majority voting of all DL models"
   ]
  },
  {
   "cell_type": "code",
   "execution_count": 50,
   "id": "88cfb3eb",
   "metadata": {},
   "outputs": [],
   "source": [
    "pred_df = pd.DataFrame(pred_dict)"
   ]
  },
  {
   "cell_type": "code",
   "execution_count": 51,
   "id": "9c3cf2b4",
   "metadata": {},
   "outputs": [],
   "source": [
    "pred_df['voting'] = pred_df.sum(axis=1).div(3).round(0)"
   ]
  },
  {
   "cell_type": "code",
   "execution_count": 52,
   "id": "efe58382",
   "metadata": {},
   "outputs": [
    {
     "name": "stdout",
     "output_type": "stream",
     "text": [
      "Metrics\n",
      "=======================\n",
      "True positive:  2327\n",
      "True negative:  32567\n",
      "False positive:  23957\n",
      "False negative:  2652\n",
      "\n",
      "Accuracy:  0.567\n",
      "F1 score:  0.149\n",
      "Jaccard Score:  0.08\n",
      "G-Mean:  0.519\n"
     ]
    }
   ],
   "source": [
    "temp = pd.DataFrame(classification_metrics(test_y, pred_df['voting'])).T\n",
    "temp.columns = column\n",
    "metrics = pd.concat([metrics, temp], axis=0)\n",
    "\n",
    "metrics_index.append('voting')"
   ]
  },
  {
   "cell_type": "markdown",
   "id": "2df2ff77",
   "metadata": {},
   "source": [
    "# Performance"
   ]
  },
  {
   "cell_type": "code",
   "execution_count": 53,
   "id": "da25e127",
   "metadata": {},
   "outputs": [],
   "source": [
    "metrics.index = metrics_index"
   ]
  },
  {
   "cell_type": "code",
   "execution_count": 54,
   "id": "b9776d3d",
   "metadata": {},
   "outputs": [
    {
     "data": {
      "text/html": [
       "<div>\n",
       "<style scoped>\n",
       "    .dataframe tbody tr th:only-of-type {\n",
       "        vertical-align: middle;\n",
       "    }\n",
       "\n",
       "    .dataframe tbody tr th {\n",
       "        vertical-align: top;\n",
       "    }\n",
       "\n",
       "    .dataframe thead th {\n",
       "        text-align: right;\n",
       "    }\n",
       "</style>\n",
       "<table border=\"1\" class=\"dataframe\">\n",
       "  <thead>\n",
       "    <tr style=\"text-align: right;\">\n",
       "      <th></th>\n",
       "      <th>Accuracy</th>\n",
       "      <th>F1 Score</th>\n",
       "      <th>Jaccard Score</th>\n",
       "      <th>G-Mean</th>\n",
       "    </tr>\n",
       "  </thead>\n",
       "  <tbody>\n",
       "    <tr>\n",
       "      <th>Dense</th>\n",
       "      <td>0.579370</td>\n",
       "      <td>0.148173</td>\n",
       "      <td>0.080014</td>\n",
       "      <td>0.516614</td>\n",
       "    </tr>\n",
       "    <tr>\n",
       "      <th>Convolutional</th>\n",
       "      <td>0.538462</td>\n",
       "      <td>0.150832</td>\n",
       "      <td>0.081567</td>\n",
       "      <td>0.523518</td>\n",
       "    </tr>\n",
       "    <tr>\n",
       "      <th>lstm</th>\n",
       "      <td>0.578167</td>\n",
       "      <td>0.149321</td>\n",
       "      <td>0.080685</td>\n",
       "      <td>0.518918</td>\n",
       "    </tr>\n",
       "    <tr>\n",
       "      <th>voting</th>\n",
       "      <td>0.567354</td>\n",
       "      <td>0.148866</td>\n",
       "      <td>0.080419</td>\n",
       "      <td>0.518919</td>\n",
       "    </tr>\n",
       "  </tbody>\n",
       "</table>\n",
       "</div>"
      ],
      "text/plain": [
       "               Accuracy  F1 Score  Jaccard Score    G-Mean\n",
       "Dense          0.579370  0.148173       0.080014  0.516614\n",
       "Convolutional  0.538462  0.150832       0.081567  0.523518\n",
       "lstm           0.578167  0.149321       0.080685  0.518918\n",
       "voting         0.567354  0.148866       0.080419  0.518919"
      ]
     },
     "execution_count": 54,
     "metadata": {},
     "output_type": "execute_result"
    }
   ],
   "source": [
    "metrics"
   ]
  },
  {
   "cell_type": "markdown",
   "id": "08d69be9",
   "metadata": {},
   "source": [
    "# Summary"
   ]
  },
  {
   "cell_type": "markdown",
   "id": "e42a2d29",
   "metadata": {},
   "source": [
    "These methods can provide a higher precision on correctly predicting the fraud cases but a lower precision on predicting the non-fraud cases. The G-mean scores are higher than the binary classification using DL models, however, the F1 scores are lower."
   ]
  }
 ],
 "metadata": {
  "kernelspec": {
   "display_name": "Python 3 (ipykernel)",
   "language": "python",
   "name": "python3"
  },
  "language_info": {
   "codemirror_mode": {
    "name": "ipython",
    "version": 3
   },
   "file_extension": ".py",
   "mimetype": "text/x-python",
   "name": "python",
   "nbconvert_exporter": "python",
   "pygments_lexer": "ipython3",
   "version": "3.8.12"
  }
 },
 "nbformat": 4,
 "nbformat_minor": 5
}
